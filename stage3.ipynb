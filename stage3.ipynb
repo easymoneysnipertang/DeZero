{
 "cells": [
  {
   "cell_type": "markdown",
   "metadata": {},
   "source": [
    "# Stage 3: Achieve higher derivatives\n",
    "\n",
    "这个阶段的主要目标是扩展 DeZero，使其能够计算高阶导数。"
   ]
  },
  {
   "cell_type": "code",
   "execution_count": 8,
   "metadata": {},
   "outputs": [],
   "source": [
    "import numpy as np\n",
    "from dezero import Variable\n",
    "import os\n",
    "import subprocess"
   ]
  },
  {
   "cell_type": "markdown",
   "metadata": {},
   "source": [
    "## Step 25: Visualization of computational graphs Ⅰ\n",
    "\n",
    "使用Graphviz库，我们可以将计算图可视化为图形。这样可以更直观地理解计算图的结构。"
   ]
  },
  {
   "cell_type": "markdown",
   "metadata": {},
   "source": [
    "## Step 26: Visualization of computational graphs Ⅱ"
   ]
  },
  {
   "cell_type": "code",
   "execution_count": 3,
   "metadata": {},
   "outputs": [],
   "source": [
    "# 将Variable实例赋给函数，返回DOT语言编写的表示实例信息的字符串\n",
    "def _dot_var(v, verbose=False):\n",
    "    dot_var = '{} [label=\"{}\", color=orange, style=filled]\\n'\n",
    "    name = '' if v.name is None else v.name\n",
    "    # verbose为True时，添加变量的形状和数据类型\n",
    "    if verbose and v.data is not None:\n",
    "        if v.name is not None:\n",
    "            name += ': '\n",
    "        name += str(v.shape) + ' ' + str(v.dtype)\n",
    "    return dot_var.format(id(v), name)  # 使用python内置函数id()获取对象的内存地址"
   ]
  },
  {
   "cell_type": "code",
   "execution_count": 5,
   "metadata": {},
   "outputs": [
    {
     "name": "stdout",
     "output_type": "stream",
     "text": [
      "1402407802760 [label=\"x\", color=orange, style=filled]\n",
      "\n",
      "1402407802760 [label=\"x: (2, 3) float64\", color=orange, style=filled]\n",
      "\n"
     ]
    }
   ],
   "source": [
    "x = Variable(np.random.randn(2, 3))\n",
    "x.name = 'x'\n",
    "print(_dot_var(x))\n",
    "print(_dot_var(x, verbose=True))"
   ]
  },
  {
   "cell_type": "code",
   "execution_count": 4,
   "metadata": {},
   "outputs": [],
   "source": [
    "# 将Function实例赋给函数，返回DOT语言编写的表示实例信息的字符串\n",
    "def _dot_func(f):\n",
    "    dot_func = '{} [label=\"{}\", color=lightblue, style=filled, shape=box]\\n'\n",
    "    txt = dot_func.format(id(f), f.__class__.__name__)\n",
    "    # 用DOT记述函数与输入变量之间的连接，以及函数与输出变量之间的连接\n",
    "    dot_edge = '{} -> {}\\n' \n",
    "    for x in f.inputs:\n",
    "        txt += dot_edge.format(id(x), id(f))\n",
    "    for y in f.outputs:\n",
    "        txt += dot_edge.format(id(f), id(y()))  # y是weakref\n",
    "    return txt"
   ]
  },
  {
   "cell_type": "code",
   "execution_count": 6,
   "metadata": {},
   "outputs": [
    {
     "name": "stdout",
     "output_type": "stream",
     "text": [
      "1404453256520 [label=\"Add\", color=lightblue, style=filled, shape=box]\n",
      "1402407784328 -> 1404453256520\n",
      "1402407783624 -> 1404453256520\n",
      "1404453256520 -> 1404287120264\n",
      "\n"
     ]
    }
   ],
   "source": [
    "x0 = Variable(np.array(1.0))\n",
    "x1 = Variable(np.array(1.0))\n",
    "y = x0 + x1\n",
    "txt = _dot_func(y.creator)\n",
    "print(txt)"
   ]
  },
  {
   "cell_type": "code",
   "execution_count": 7,
   "metadata": {},
   "outputs": [],
   "source": [
    "# 参考backward函数的实现，实现获取计算图的函数\n",
    "def get_dot_graph(output, verbose=True):\n",
    "    txt = ''\n",
    "    funcs = []\n",
    "    seen_set = set()\n",
    "\n",
    "    def add_func(f):\n",
    "        if f not in seen_set:  # 不需要按辈分顺序添加函数\n",
    "            funcs.append(f)\n",
    "            seen_set.add(f)\n",
    "\n",
    "    add_func(output.creator)\n",
    "    txt += _dot_var(output, verbose)  # 输出变量\n",
    "\n",
    "    while funcs:\n",
    "        func = funcs.pop()\n",
    "        txt += _dot_func(func)  # 函数\n",
    "        for x in func.inputs:\n",
    "            txt += _dot_var(x, verbose)  # 输入变量\n",
    "\n",
    "            if x.creator is not None:\n",
    "                add_func(x.creator)  # 添加函数\n",
    "\n",
    "    return 'digraph g {\\n' + txt + '}'"
   ]
  },
  {
   "cell_type": "code",
   "execution_count": 13,
   "metadata": {},
   "outputs": [],
   "source": [
    "def plot_dot_graph(output, verbose=True, to_file='graph.png'):\n",
    "    dot_graph = get_dot_graph(output, verbose)\n",
    "\n",
    "    # 保存为dot文件\n",
    "    tmp_dir = os.path.join(os.path.expanduser('~'), '.dezero')\n",
    "    if not os.path.exists(tmp_dir):  # 创建目录\n",
    "        os.mkdir(tmp_dir)\n",
    "    dot_file = os.path.join(tmp_dir, 'tmp.dot')\n",
    "    with open(dot_file, 'w') as f:\n",
    "        f.write(dot_graph)\n",
    "\n",
    "    # 调用Graphviz的dot命令\n",
    "    ext = os.path.splitext(to_file)[1][1:]  # 获取文件扩展名\n",
    "    cmd = 'dot {} -T {} -o {}'.format(dot_file, ext, to_file)\n",
    "    subprocess.run(cmd, shell=True)\n",
    "\n",
    "    # 在juptyer notebook中显示图像\n",
    "    try:\n",
    "        from PIL import Image\n",
    "        img = Image.open(to_file)\n",
    "        img.show()\n",
    "    except ImportError:\n",
    "        pass"
   ]
  },
  {
   "cell_type": "code",
   "execution_count": 11,
   "metadata": {},
   "outputs": [],
   "source": [
    "x0 = Variable(np.array(1.0))\n",
    "x1 = Variable(np.array(1.0))\n",
    "y = x0 + x1\n",
    "x0.name = 'x0'\n",
    "x1.name = 'x1'\n",
    "y.name = 'y'\n",
    "plot_dot_graph(y, verbose=False, to_file='add.png')"
   ]
  },
  {
   "cell_type": "code",
   "execution_count": 15,
   "metadata": {},
   "outputs": [],
   "source": [
    "def goldstein(x, y):\n",
    "    z = (1 + (x + y + 1)**2 * (19 - 14*x + 3*x**2 - 14*y + 6*x*y + 3*y**2)) * \\\n",
    "        (30 + (2*x - 3*y)**2 * (18 - 32*x + 12*x**2 + 48*y - 36*x*y + 27*y**2))\n",
    "    return z\n",
    "\n",
    "\n",
    "x = Variable(np.array(1.0))\n",
    "y = Variable(np.array(1.0))\n",
    "z = goldstein(x, y)\n",
    "z.backward()\n",
    "\n",
    "x.name = 'x'\n",
    "y.name = 'y'\n",
    "z.name = 'z'\n",
    "plot_dot_graph(z, verbose=False, to_file='goldstein.png')"
   ]
  }
 ],
 "metadata": {
  "kernelspec": {
   "display_name": "dl_torch",
   "language": "python",
   "name": "python3"
  },
  "language_info": {
   "codemirror_mode": {
    "name": "ipython",
    "version": 3
   },
   "file_extension": ".py",
   "mimetype": "text/x-python",
   "name": "python",
   "nbconvert_exporter": "python",
   "pygments_lexer": "ipython3",
   "version": "3.7.4"
  }
 },
 "nbformat": 4,
 "nbformat_minor": 2
}
