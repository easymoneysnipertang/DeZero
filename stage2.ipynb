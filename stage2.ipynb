{
 "cells": [
  {
   "cell_type": "markdown",
   "metadata": {},
   "source": [
    "# Stage 2: Express in natural code\n",
    "\n",
    "这个阶段的主要目标是扩展当前的 DeZero ，使它能够执行更复杂的计算。具体来说，我们将修改 DeZero 的基础代码，使它能够处理接收多个输入的函数和返回多个输出的函数。我们还将扩展 DeZero使它可以用自然的代码来表达，例如能够使用+和*等运算符。"
   ]
  },
  {
   "cell_type": "code",
   "execution_count": 1,
   "metadata": {},
   "outputs": [],
   "source": [
    "import numpy as np\n",
    "import heapq\n",
    "import weakref\n",
    "import contextlib"
   ]
  },
  {
   "cell_type": "markdown",
   "metadata": {},
   "source": [
    "## Step 11: Variable length parameter (forward)"
   ]
  },
  {
   "cell_type": "markdown",
   "metadata": {},
   "source": [
    "Stage1中设计的函数输入输出都只有一个变量，下面需要拓展DeZero，使其可以处理可变长的输入和输出。"
   ]
  },
  {
   "cell_type": "code",
   "execution_count": 2,
   "metadata": {},
   "outputs": [],
   "source": [
    "class Variable:\n",
    "    def __init__(self, data):\n",
    "        if data is not None:\n",
    "            if not isinstance(data, np.ndarray):\n",
    "                raise TypeError('{} is not supported'.format(type(data)))\n",
    "\n",
    "        self.data = data\n",
    "        self.grad = None\n",
    "        self.creator = None\n",
    "\n",
    "    def set_creator(self, func):\n",
    "        self.creator = func\n",
    "\n",
    "    def backward(self):\n",
    "        if self.grad is None:\n",
    "            self.grad = np.ones_like(self.data)\n",
    "\n",
    "        funcs = [self.creator]\n",
    "        while funcs:\n",
    "            f = funcs.pop()\n",
    "            x, y = f.input, f.output\n",
    "            x.grad = f.backward(y.grad)\n",
    "\n",
    "            if x.creator is not None:\n",
    "                funcs.append(x.creator)"
   ]
  },
  {
   "cell_type": "code",
   "execution_count": 3,
   "metadata": {},
   "outputs": [],
   "source": [
    "def as_array(x):\n",
    "    if np.isscalar(x):\n",
    "        return np.array(x)\n",
    "    return x\n",
    "\n",
    "class Function:\n",
    "    def __call__(self, inputs):\n",
    "        # 将变量放入列表\n",
    "        xs = [x.data for x in inputs]  # Get data from Variable\n",
    "        ys = self.forward(xs)\n",
    "        outputs = [Variable(as_array(y)) for y in ys]  # Wrap data\n",
    "        # 逐个设置关联关系\n",
    "        for output in outputs:\n",
    "            output.set_creator(self)\n",
    "        self.inputs = inputs\n",
    "        self.outputs = outputs\n",
    "        return outputs\n",
    "\n",
    "    def forward(self, xs):\n",
    "        raise NotImplementedError()\n",
    "\n",
    "    def backward(self, gys):\n",
    "        raise NotImplementedError()"
   ]
  },
  {
   "cell_type": "code",
   "execution_count": 8,
   "metadata": {},
   "outputs": [],
   "source": [
    "class Add(Function):\n",
    "    def forward(self, xs):\n",
    "        x0, x1 = xs\n",
    "        y = x0 + x1\n",
    "        return (y,)  # return as tuple"
   ]
  },
  {
   "cell_type": "code",
   "execution_count": 5,
   "metadata": {},
   "outputs": [
    {
     "name": "stdout",
     "output_type": "stream",
     "text": [
      "<class 'list'> <class '__main__.Variable'>\n",
      "5\n"
     ]
    }
   ],
   "source": [
    "xs = [Variable(np.array(2)), Variable(np.array(3))]\n",
    "f = Add()\n",
    "ys = f(xs)\n",
    "print(type(ys), type(ys[0]))  # <class 'tuple'> <class '__main__.Variable'>\n",
    "y = ys[0]\n",
    "print(y.data)  # 5"
   ]
  },
  {
   "cell_type": "markdown",
   "metadata": {},
   "source": [
    "## Step 12: Variable length parameter (improve)"
   ]
  },
  {
   "cell_type": "markdown",
   "metadata": {},
   "source": [
    "改进上述代码，使得Add类更容易使用，也更容易实现。"
   ]
  },
  {
   "cell_type": "code",
   "execution_count": 6,
   "metadata": {},
   "outputs": [],
   "source": [
    "# 1. 让Add类更易用，传入多个参数时，不需要将参数打包成列表，而是直接传入多个参数\n",
    "class Function:\n",
    "    def __call__(self, *inputs):  # Change inputs to *inputs\n",
    "        xs = [x.data for x in inputs]  # 从inputs中取出data\n",
    "        ys = self.forward(xs)\n",
    "        outputs = [Variable(as_array(y)) for y in ys]\n",
    "\n",
    "        for output in outputs:\n",
    "            output.set_creator(self)\n",
    "        self.inputs = inputs\n",
    "        self.outputs = outputs\n",
    "\n",
    "        return outputs if len(outputs) > 1 else outputs[0]  # 如果outputs只有一个元素，则返回该元素\n",
    "\n",
    "    def forward(self, xs):\n",
    "        raise NotImplementedError()\n",
    "\n",
    "    def backward(self, gys):\n",
    "        raise NotImplementedError()"
   ]
  },
  {
   "cell_type": "code",
   "execution_count": 9,
   "metadata": {},
   "outputs": [
    {
     "name": "stdout",
     "output_type": "stream",
     "text": [
      "5\n"
     ]
    }
   ],
   "source": [
    "x0 = Variable(np.array(2))\n",
    "x1 = Variable(np.array(3))\n",
    "f = Add()\n",
    "y = f(x0, x1)\n",
    "print(y.data)  # 5"
   ]
  },
  {
   "cell_type": "code",
   "execution_count": 10,
   "metadata": {},
   "outputs": [],
   "source": [
    "# 2. 让Add类更容易实现，forward方法直接接收两个变量，直接返回结果变量\n",
    "class Function:\n",
    "    def __call__(self, *inputs):  # Change inputs to *inputs\n",
    "        xs = [x.data for x in inputs]  # 从inputs中取出data\n",
    "        ys = self.forward(*xs)  # 解包：使用*将列表拆分为单独的元素（之前需要在add里解包）\n",
    "        if not isinstance(ys, tuple):  # 如果ys不是元组，则将其转换为元组（之前需要在add里转换）\n",
    "            ys = (ys,)\n",
    "        outputs = [Variable(as_array(y)) for y in ys]\n",
    "\n",
    "        for output in outputs:\n",
    "            output.set_creator(self)\n",
    "        self.inputs = inputs\n",
    "        self.outputs = outputs\n",
    "\n",
    "        return outputs if len(outputs) > 1 else outputs[0]  # 如果outputs只有一个元素，则返回该元素\n",
    "\n",
    "    def forward(self, xs):\n",
    "        raise NotImplementedError()\n",
    "\n",
    "    def backward(self, gys):\n",
    "        raise NotImplementedError()"
   ]
  },
  {
   "cell_type": "code",
   "execution_count": 11,
   "metadata": {},
   "outputs": [],
   "source": [
    "class Add(Function):\n",
    "    def forward(self, x0, x1):\n",
    "        y = x0 + x1\n",
    "        return y\n",
    "    \n",
    "def add(x0, x1):\n",
    "    return Add()(x0, x1)"
   ]
  },
  {
   "cell_type": "code",
   "execution_count": 12,
   "metadata": {},
   "outputs": [
    {
     "name": "stdout",
     "output_type": "stream",
     "text": [
      "5\n"
     ]
    }
   ],
   "source": [
    "x0 = Variable(np.array(2))\n",
    "x1 = Variable(np.array(3))\n",
    "y = add(x0, x1)\n",
    "print(y.data)  # 5"
   ]
  },
  {
   "cell_type": "markdown",
   "metadata": {},
   "source": [
    "## Step 13: Variable length parameter (backward)"
   ]
  },
  {
   "cell_type": "markdown",
   "metadata": {},
   "source": [
    "加法的反向传播就是将输入的梯度原封不动地传递给输出\n",
    "<center>\n",
    "<table>\n",
    "  <tr>\n",
    "    <td><img src=\"./res/反向传播_偏导.png\" width=\"400\"/></td>\n",
    "  </tr>\n",
    "</table>\n",
    "</center>\n",
    "\n",
    "1. 将output的grad收集起来\n",
    "2. 使用backward方法计算梯度\n",
    "3. 如果backward的返回值不是元组，则转换为元组\n",
    "4. 将梯度传递给输入变量"
   ]
  },
  {
   "cell_type": "code",
   "execution_count": 13,
   "metadata": {},
   "outputs": [],
   "source": [
    "class Add(Function):\n",
    "    def forward(self, x0, x1):\n",
    "        y = x0 + x1\n",
    "        return y\n",
    "\n",
    "    def backward(self, gy):  \n",
    "        return gy, gy"
   ]
  },
  {
   "cell_type": "code",
   "execution_count": 14,
   "metadata": {},
   "outputs": [],
   "source": [
    "class Variable:\n",
    "    def __init__(self, data):\n",
    "        if data is not None:\n",
    "            if not isinstance(data, np.ndarray):\n",
    "                raise TypeError('{} is not supported'.format(type(data)))\n",
    "\n",
    "        self.data = data\n",
    "        self.grad = None\n",
    "        self.creator = None\n",
    "\n",
    "    def set_creator(self, func):\n",
    "        self.creator = func\n",
    "\n",
    "    def backward(self):\n",
    "        if self.grad is None:\n",
    "            self.grad = np.ones_like(self.data)\n",
    "\n",
    "        funcs = [self.creator]\n",
    "        while funcs:\n",
    "            f = funcs.pop()\n",
    "            gys = [output.grad for output in f.outputs]  # 1. 将output的grad收集起来（因为可能有多个输出）\n",
    "            gxs = f.backward(*gys)  # 2. 使用backward方法计算梯度（不能直接赋值了，因为输入也可能有多个）\n",
    "            if not isinstance(gxs, tuple):  # 3. 如果backward的返回值不是元组，则转换为元组\n",
    "                gxs = (gxs,)\n",
    "            \n",
    "            for x, gx in zip(f.inputs, gxs):  # 4. 将梯度传递给输入变量（输入可能有多个，就逐个赋值）\n",
    "                x.grad = gx\n",
    "                if x.creator is not None:\n",
    "                    funcs.append(x.creator)\n"
   ]
  },
  {
   "cell_type": "code",
   "execution_count": 15,
   "metadata": {},
   "outputs": [],
   "source": [
    "class Square(Function):\n",
    "    def forward(self, x):\n",
    "        y = x ** 2\n",
    "        return y\n",
    "\n",
    "    def backward(self, gy):\n",
    "        x = self.inputs[0].data  # input是元组，取出第0个元素\n",
    "        gx = 2 * x * gy\n",
    "        return gx\n",
    "    \n",
    "def square(x):\n",
    "    return Square()(x)"
   ]
  },
  {
   "cell_type": "code",
   "execution_count": 16,
   "metadata": {},
   "outputs": [
    {
     "name": "stdout",
     "output_type": "stream",
     "text": [
      "13.0\n",
      "4.0\n",
      "6.0\n"
     ]
    }
   ],
   "source": [
    "x = Variable(np.array(2.0))\n",
    "y = Variable(np.array(3.0))\n",
    "\n",
    "z = add(square(x), square(y))\n",
    "z.backward()\n",
    "print(z.data)  # 13.0\n",
    "print(x.grad)  # 4.0\n",
    "print(y.grad)  # 6.0"
   ]
  },
  {
   "cell_type": "markdown",
   "metadata": {},
   "source": [
    "## Step 14: Use the same variable repeatedly"
   ]
  },
  {
   "cell_type": "markdown",
   "metadata": {},
   "source": [
    "当前DeZero如果重复使用同一个变量，则不能正确求导\n",
    "\n",
    "问题在于变量的backward代码，是直接用输出端传播的导数进行赋值的，如果是重复使用同一个变量，则传播的导数会被替换\n",
    "\n",
    "<center>\n",
    "<table>\n",
    "  <tr>\n",
    "    <td><img src=\"./res/重复变量.png\" width=\"400\"/></td>\n",
    "  </tr>\n",
    "</table>\n",
    "</center>"
   ]
  },
  {
   "cell_type": "code",
   "execution_count": 17,
   "metadata": {},
   "outputs": [
    {
     "name": "stdout",
     "output_type": "stream",
     "text": [
      "y 6.0\n",
      "x.grad 1.0\n"
     ]
    }
   ],
   "source": [
    "x = Variable(np.array(3.0))\n",
    "# y = 2x 正确的导数应该为2\n",
    "y = add(x,x)\n",
    "print('y', y.data)\n",
    "\n",
    "y.backward()\n",
    "print('x.grad', x.grad)"
   ]
  },
  {
   "cell_type": "code",
   "execution_count": 18,
   "metadata": {},
   "outputs": [],
   "source": [
    "class Variable:\n",
    "    def __init__(self, data):\n",
    "        if data is not None:\n",
    "            if not isinstance(data, np.ndarray):\n",
    "                raise TypeError('{} is not supported'.format(type(data)))\n",
    "\n",
    "        self.data = data\n",
    "        self.grad = None\n",
    "        self.creator = None\n",
    "\n",
    "    def set_creator(self, func):\n",
    "        self.creator = func\n",
    "\n",
    "    def backward(self):\n",
    "        if self.grad is None:\n",
    "            self.grad = np.ones_like(self.data)\n",
    "\n",
    "        funcs = [self.creator]\n",
    "        while funcs:\n",
    "            f = funcs.pop()\n",
    "            gys = [output.grad for output in f.outputs]  # 1. 将output的grad收集起来\n",
    "            gxs = f.backward(*gys)  # 2. 使用backward方法计算梯度\n",
    "            if not isinstance(gxs, tuple):  # 3. 如果backward的返回值不是元组，则转换为元组\n",
    "                gxs = (gxs,)\n",
    "            \n",
    "            for x, gx in zip(f.inputs, gxs):  # 4. 将梯度传递给输入变量\n",
    "                if x.grad is None:\n",
    "                    x.grad = gx\n",
    "                else:\n",
    "                    x.grad = x.grad + gx  # 添加判断，如果此时grad已经有值了则累加\n",
    "                if x.creator is not None:\n",
    "                    funcs.append(x.creator)\n"
   ]
  },
  {
   "cell_type": "code",
   "execution_count": 19,
   "metadata": {},
   "outputs": [
    {
     "name": "stdout",
     "output_type": "stream",
     "text": [
      "y 9.0\n",
      "x.grad 3.0\n"
     ]
    }
   ],
   "source": [
    "x = Variable(np.array(3.0))\n",
    "y = add(x, add(x,x))\n",
    "print('y', y.data)\n",
    "\n",
    "y.backward()\n",
    "print('x.grad', x.grad)"
   ]
  },
  {
   "cell_type": "markdown",
   "metadata": {},
   "source": [
    "但此时又出现另一个问题，当同一个变量进行不同计算时，梯度会在第一次的计算上累加，需要添加clearGrad方法"
   ]
  },
  {
   "cell_type": "code",
   "execution_count": 20,
   "metadata": {},
   "outputs": [],
   "source": [
    "class Variable:\n",
    "    def __init__(self, data):\n",
    "        if data is not None:\n",
    "            if not isinstance(data, np.ndarray):\n",
    "                raise TypeError('{} is not supported'.format(type(data)))\n",
    "\n",
    "        self.data = data\n",
    "        self.grad = None\n",
    "        self.creator = None\n",
    "\n",
    "    def set_creator(self, func):\n",
    "        self.creator = func\n",
    "\n",
    "    def clear_grad(self):  # 清空梯度\n",
    "        self.grad = None\n",
    "\n",
    "    def backward(self):\n",
    "        if self.grad is None:\n",
    "            self.grad = np.ones_like(self.data)\n",
    "\n",
    "        funcs = [self.creator]\n",
    "        while funcs:\n",
    "            f = funcs.pop()\n",
    "            gys = [output.grad for output in f.outputs]  # 1. 将output的grad收集起来\n",
    "            gxs = f.backward(*gys)  # 2. 使用backward方法计算梯度\n",
    "            if not isinstance(gxs, tuple):  # 3. 如果backward的返回值不是元组，则转换为元组\n",
    "                gxs = (gxs,)\n",
    "            \n",
    "            for x, gx in zip(f.inputs, gxs):  # 4. 将梯度传递给输入变量\n",
    "                if x.grad is None:\n",
    "                    x.grad = gx\n",
    "                else:\n",
    "                    x.grad = x.grad + gx  # 添加判断，如果此时grad已经有值了则累加\n",
    "                if x.creator is not None:\n",
    "                    funcs.append(x.creator)\n"
   ]
  },
  {
   "cell_type": "code",
   "execution_count": 21,
   "metadata": {},
   "outputs": [
    {
     "name": "stdout",
     "output_type": "stream",
     "text": [
      "2.0\n",
      "3.0\n"
     ]
    }
   ],
   "source": [
    "x = Variable(np.array(3.0))\n",
    "y = add(x, x)\n",
    "y.backward()\n",
    "print(x.grad)  # 2.0\n",
    "\n",
    "x.clear_grad()  # 不同的计算，清空梯度\n",
    "y = add(add(x, x), x)\n",
    "y.backward()\n",
    "print(x.grad)  # 3.0"
   ]
  },
  {
   "cell_type": "markdown",
   "metadata": {},
   "source": [
    "## Step 15: Complex calculation graph (theory)"
   ]
  },
  {
   "cell_type": "markdown",
   "metadata": {},
   "source": [
    "现在的DeZero还不能处理复杂的计算图：\n",
    "<center>\n",
    "<table>\n",
    "  <tr>\n",
    "    <td><img src=\"./res/complex1.png\" width=\"400\"/></td>\n",
    "  </tr>\n",
    "  <tr>\n",
    "    <td><img src=\"./res/complex2.png\" width=\"400\"/></td>\n",
    "  </tr>\n",
    "</table>\n",
    "</center>\n",
    "\n",
    "比如对于上图的变量a，就需要通过B和C传播得到a的梯度后，再从a向x传播梯度。  \n",
    "但目前的实现还有问题，每次从将待处理函数append到funcs末尾，而处理函数是从末尾pop出来的。不断覆盖，导致无法按照上述顺序计算。\n",
    "\n",
    "需要从funcs列表中取出合适的函数：\n",
    "1. 解析计算图，拓扑排序\n",
    "2. 正向传播时记录辈分关系，优先取出“后代”"
   ]
  },
  {
   "cell_type": "markdown",
   "metadata": {},
   "source": [
    "## Step 16: Complex calculation graph (implementation)"
   ]
  },
  {
   "cell_type": "code",
   "execution_count": 2,
   "metadata": {},
   "outputs": [],
   "source": [
    "class Variable:\n",
    "    def __init__(self, data):\n",
    "        if data is not None:\n",
    "            if not isinstance(data, np.ndarray):\n",
    "                raise TypeError('{} is not supported'.format(type(data)))\n",
    "\n",
    "        self.data = data\n",
    "        self.grad = None\n",
    "        self.creator = None\n",
    "        self.generation = 0\n",
    "\n",
    "    def set_creator(self, func):\n",
    "        self.creator = func\n",
    "        self.generation = func.generation + 1  # 设置为父函数的generation+1\n",
    "\n",
    "    def clear_grad(self):  # 清空梯度\n",
    "        self.grad = None\n",
    "\n",
    "    def backward(self):\n",
    "        if self.grad is None:\n",
    "            self.grad = np.ones_like(self.data)\n",
    "\n",
    "        funcs = []\n",
    "        seen_set = set()  # 使用集合来保存已经遍历过的函数，避免重复遍历\n",
    "        def add_func(f):  # 可以使用heapq来优化\n",
    "            if f not in seen_set:\n",
    "                funcs.append(f)\n",
    "                seen_set.add(f)\n",
    "                funcs.sort(key=lambda x: x.generation)  # 按照generation排序\n",
    "\n",
    "        add_func(self.creator)  # 每添加一个函数，就调用add_func方法进行排序\n",
    "\n",
    "        while funcs:\n",
    "            f = funcs.pop()  # 需要取出generation最大的function！\n",
    "            gys = [output.grad for output in f.outputs]  # 1. 将output的grad收集起来\n",
    "            gxs = f.backward(*gys)  # 2. 使用backward方法计算梯度\n",
    "            if not isinstance(gxs, tuple):  # 3. 如果backward的返回值不是元组，则转换为元组\n",
    "                gxs = (gxs,)\n",
    "            \n",
    "            for x, gx in zip(f.inputs, gxs):  # 4. 将梯度传递给输入变量\n",
    "                if x.grad is None:\n",
    "                    x.grad = gx\n",
    "                else:\n",
    "                    x.grad = x.grad + gx  # 添加判断，如果此时grad已经有值了则累加\n",
    "                if x.creator is not None:\n",
    "                    #funcs.append(x.creator)\n",
    "                    add_func(x.creator)"
   ]
  },
  {
   "cell_type": "code",
   "execution_count": 8,
   "metadata": {},
   "outputs": [],
   "source": [
    "def as_array(x):\n",
    "    if np.isscalar(x):\n",
    "        return np.array(x)\n",
    "    return x\n",
    "\n",
    "class Function:\n",
    "    def __call__(self, *inputs):\n",
    "        xs = [x.data for x in inputs]\n",
    "        ys = self.forward(*xs)\n",
    "        if not isinstance(ys, tuple):\n",
    "            ys = (ys,)\n",
    "        outputs = [Variable(as_array(y)) for y in ys]\n",
    "\n",
    "        self.generation = max([x.generation for x in inputs])  # 设置为输入的max generation\n",
    "        for output in outputs:\n",
    "            output.set_creator(self)\n",
    "        self.inputs = inputs\n",
    "        self.outputs = outputs\n",
    "        return outputs if len(outputs) > 1 else outputs[0]\n",
    "\n",
    "    def forward(self, xs):\n",
    "        raise NotImplementedError()\n",
    "\n",
    "    def backward(self, gys):\n",
    "        raise NotImplementedError()"
   ]
  },
  {
   "cell_type": "code",
   "execution_count": 9,
   "metadata": {},
   "outputs": [],
   "source": [
    "class Square(Function):\n",
    "    def forward(self, x):\n",
    "        y = x ** 2\n",
    "        return y\n",
    "\n",
    "    def backward(self, gy):\n",
    "        x = self.inputs[0].data\n",
    "        gx = 2 * x * gy\n",
    "        return gx\n",
    "\n",
    "def square(x):\n",
    "    return Square()(x)\n",
    "\n",
    "class Add(Function):\n",
    "    def forward(self, x0, x1):\n",
    "        y = x0 + x1\n",
    "        return y\n",
    "\n",
    "    def backward(self, gy):\n",
    "        return gy, gy\n",
    "\n",
    "def add(x0, x1):\n",
    "    return Add()(x0, x1)"
   ]
  },
  {
   "cell_type": "code",
   "execution_count": 20,
   "metadata": {},
   "outputs": [
    {
     "name": "stdout",
     "output_type": "stream",
     "text": [
      "32.0\n",
      "64.0\n"
     ]
    }
   ],
   "source": [
    "x = Variable(np.array(2.0))\n",
    "a = square(x)\n",
    "y = add(square(a), square(a))\n",
    "y.backward()\n",
    "\n",
    "print(y.data)  # 32.0\n",
    "print(x.grad)  # 64.0"
   ]
  },
  {
   "cell_type": "markdown",
   "metadata": {},
   "source": [
    "有必要这么麻烦吗？使用层次遍历不行吗？还真不行，比如Step15的上半图，是一个拓扑排序问题。"
   ]
  },
  {
   "cell_type": "code",
   "execution_count": 17,
   "metadata": {},
   "outputs": [],
   "source": [
    "# 使用优先级队列来优化时间复杂度\n",
    "def as_array(x):\n",
    "    if np.isscalar(x):\n",
    "        return np.array(x)\n",
    "    return x\n",
    "\n",
    "class Function:\n",
    "    def __call__(self, *inputs):\n",
    "        xs = [x.data for x in inputs]\n",
    "        ys = self.forward(*xs)\n",
    "        if not isinstance(ys, tuple):\n",
    "            ys = (ys,)\n",
    "        outputs = [Variable(as_array(y)) for y in ys]\n",
    "\n",
    "        self.generation = max([x.generation for x in inputs])  # 设置为输入的max generation\n",
    "        for output in outputs:\n",
    "            output.set_creator(self)\n",
    "        self.inputs = inputs\n",
    "        self.outputs = outputs\n",
    "        return outputs if len(outputs) > 1 else outputs[0]\n",
    "    \n",
    "    def __lt__(self, other):  # 为了使用heapq，需要实现小于比较\n",
    "        return self.generation > other.generation\n",
    "\n",
    "    def forward(self, xs):\n",
    "        raise NotImplementedError()\n",
    "\n",
    "    def backward(self, gys):\n",
    "        raise NotImplementedError()\n",
    "\n",
    "class Variable:\n",
    "    def __init__(self, data):\n",
    "        if data is not None:\n",
    "            if not isinstance(data, np.ndarray):\n",
    "                raise TypeError('{} is not supported'.format(type(data)))\n",
    "\n",
    "        self.data = data\n",
    "        self.grad = None\n",
    "        self.creator = None\n",
    "        self.generation = 0\n",
    "\n",
    "    def set_creator(self, func):\n",
    "        self.creator = func\n",
    "        self.generation = func.generation + 1  # 设置为父函数的generation+1\n",
    "\n",
    "    def clear_grad(self):  # 清空梯度\n",
    "        self.grad = None\n",
    "\n",
    "    def backward(self):\n",
    "        if self.grad is None:\n",
    "            self.grad = np.ones_like(self.data)\n",
    "\n",
    "        funcs = []\n",
    "        seen_set = set()  # 使用集合来保存已经遍历过的函数，避免重复遍历\n",
    "        def add_func(f):\n",
    "            if f not in seen_set:\n",
    "                heapq.heappush(funcs, f)\n",
    "                seen_set.add(f)\n",
    "\n",
    "        add_func(self.creator)  # 每添加一个函数，就调用add_func方法进行排序\n",
    "\n",
    "        while funcs:\n",
    "            f = heapq.heappop(funcs)\n",
    "            #f = funcs.pop()  # 需要取出generation最大的function！\n",
    "\n",
    "            gys = [output.grad for output in f.outputs]  # 1. 将output的grad收集起来\n",
    "            gxs = f.backward(*gys)  # 2. 使用backward方法计算梯度\n",
    "            if not isinstance(gxs, tuple):  # 3. 如果backward的返回值不是元组，则转换为元组\n",
    "                gxs = (gxs,)\n",
    "            \n",
    "            for x, gx in zip(f.inputs, gxs):  # 4. 将梯度传递给输入变量\n",
    "                if x.grad is None:\n",
    "                    x.grad = gx\n",
    "                else:\n",
    "                    x.grad = x.grad + gx  # 添加判断，如果此时grad已经有值了则累加\n",
    "                if x.creator is not None:\n",
    "                    add_func(x.creator)"
   ]
  },
  {
   "cell_type": "markdown",
   "metadata": {},
   "source": [
    "## Step 17: Memory management and circular references"
   ]
  },
  {
   "cell_type": "markdown",
   "metadata": {},
   "source": [
    "本节关注DeZero的速度和内存使用，引入一些提高性能的技术。\n",
    "\n",
    "python会自动从内存中删除不再需要的对象\n",
    "- 引用计数：自动回收没有被引用的对象。但是循环引用时，引用计数无法回收。\n",
    "- 分代垃圾回收(GC)：python会定期检查对象的引用关系，回收不再使用的对象。\n",
    "\n",
    "使用GC释放内存时会让程序整体内存使用量增加，内存在机器学习中很重要，因此要避免循环引用。\n",
    "\n",
    "目前的DeZero存在循环引用，比如Variable和Function相互引用，导致无法回收内存。\n",
    "<center>\n",
    "<table>\n",
    "  <tr>\n",
    "    <td><img src=\"./res/circular.png\" width=\"400\"/></td>\n",
    "  </tr>\n",
    "</table>\n",
    "</center>\n",
    "\n",
    "可以使用python标准模块的weakref，它在不增加引用计数的情况下引用对象，避免循环引用。\n"
   ]
  },
  {
   "cell_type": "code",
   "execution_count": 22,
   "metadata": {},
   "outputs": [
    {
     "name": "stdout",
     "output_type": "stream",
     "text": [
      "<weakref at 0x0000024EC6CCDB88; to 'numpy.ndarray' at 0x0000024EC6CF1990>\n",
      "[1 2 3]\n",
      "<weakref at 0x0000024EC6CCDB88; dead>\n",
      "None\n"
     ]
    }
   ],
   "source": [
    "a = np.array([1, 2, 3])\n",
    "b = weakref.ref(a)\n",
    "\n",
    "print(b)  # <weakref at 0x7f8b1c1b3b80; to 'numpy.ndarray' at 0x7f8b1c1b3b30>\n",
    "print(b())  # [1 2 3]\n",
    "\n",
    "a = None\n",
    "print(b)  # <weakref at 0x7f8b1c1b3b80; dead>\n",
    "print(b())  # None"
   ]
  },
  {
   "cell_type": "code",
   "execution_count": 5,
   "metadata": {},
   "outputs": [],
   "source": [
    "def as_array(x):\n",
    "    if np.isscalar(x):\n",
    "        return np.array(x)\n",
    "    return x\n",
    "\n",
    "class Function:\n",
    "    def __call__(self, *inputs):\n",
    "        xs = [x.data for x in inputs]\n",
    "        ys = self.forward(*xs)\n",
    "        if not isinstance(ys, tuple):\n",
    "            ys = (ys,)\n",
    "        outputs = [Variable(as_array(y)) for y in ys]\n",
    "\n",
    "        self.generation = max([x.generation for x in inputs])  # 设置为输入的max generation\n",
    "        for output in outputs:\n",
    "            output.set_creator(self)\n",
    "        self.inputs = inputs\n",
    "        self.outputs = [weakref.ref(output) for output in outputs]  # 使用weakref\n",
    "        return outputs if len(outputs) > 1 else outputs[0]\n",
    "    \n",
    "    def __lt__(self, other):  # 为了使用heapq，需要实现小于比较\n",
    "        return self.generation > other.generation\n",
    "\n",
    "    def forward(self, xs):\n",
    "        raise NotImplementedError()\n",
    "\n",
    "    def backward(self, gys):\n",
    "        raise NotImplementedError()"
   ]
  },
  {
   "cell_type": "code",
   "execution_count": 3,
   "metadata": {},
   "outputs": [],
   "source": [
    "class Variable:\n",
    "    def __init__(self, data):\n",
    "        if data is not None:\n",
    "            if not isinstance(data, np.ndarray):\n",
    "                raise TypeError('{} is not supported'.format(type(data)))\n",
    "\n",
    "        self.data = data\n",
    "        self.grad = None\n",
    "        self.creator = None\n",
    "        self.generation = 0\n",
    "\n",
    "    def set_creator(self, func):\n",
    "        self.creator = func\n",
    "        self.generation = func.generation + 1  # 设置为父函数的generation+1\n",
    "\n",
    "    def clear_grad(self):  # 清空梯度\n",
    "        self.grad = None\n",
    "\n",
    "    def backward(self):\n",
    "        if self.grad is None:\n",
    "            self.grad = np.ones_like(self.data)\n",
    "\n",
    "        funcs = []\n",
    "        seen_set = set()  # 使用集合来保存已经遍历过的函数，避免重复遍历\n",
    "        def add_func(f):\n",
    "            if f not in seen_set:\n",
    "                heapq.heappush(funcs, f)\n",
    "                seen_set.add(f)\n",
    "\n",
    "        add_func(self.creator)  # 每添加一个函数，就调用add_func方法进行排序\n",
    "\n",
    "        while funcs:\n",
    "            f = heapq.heappop(funcs)  \n",
    "            # 下面要使用output()来获取Variable实例，因为outputs是weakref\n",
    "            gys = [output().grad for output in f.outputs]  # 1. 将output的grad收集起来\n",
    "            gxs = f.backward(*gys)  # 2. 使用backward方法计算梯度\n",
    "            if not isinstance(gxs, tuple):  # 3. 如果backward的返回值不是元组，则转换为元组\n",
    "                gxs = (gxs,)\n",
    "            \n",
    "            for x, gx in zip(f.inputs, gxs):  # 4. 将梯度传递给输入变量\n",
    "                if x.grad is None:\n",
    "                    x.grad = gx\n",
    "                else:\n",
    "                    x.grad = x.grad + gx  # 添加判断，如果此时grad已经有值了则累加\n",
    "                if x.creator is not None:\n",
    "                    add_func(x.creator)"
   ]
  },
  {
   "cell_type": "code",
   "execution_count": 26,
   "metadata": {},
   "outputs": [],
   "source": [
    "for i in range(10):\n",
    "    # 覆盖掉变量后，内存会被释放\n",
    "    x = Variable(np.random.randn(10000))  # 生成大数组\n",
    "    y = square(square(square(x)))  # 生成大数组"
   ]
  },
  {
   "cell_type": "markdown",
   "metadata": {},
   "source": [
    "## Step 18: Mode for reducing memory usage"
   ]
  },
  {
   "cell_type": "markdown",
   "metadata": {},
   "source": [
    "本节主要做两部分改进：\n",
    "1. 减少反向传播消耗的内存使用量 -- 立即消除无用导数\n",
    "2. 提供\"不需要反向传播时的模式\" -- 省去不必要的计算"
   ]
  },
  {
   "cell_type": "markdown",
   "metadata": {},
   "source": [
    "在机器学习中，往往只有终端变量的导数才需要通过反向传播求得，中间变量的导数基本用不到。\n",
    "\n",
    "通过retain_grad标志位，如果为false，则不保存梯度，从而减少内存消耗。"
   ]
  },
  {
   "cell_type": "code",
   "execution_count": 2,
   "metadata": {},
   "outputs": [],
   "source": [
    "class Variable:\n",
    "    def __init__(self, data):\n",
    "        if data is not None:\n",
    "            if not isinstance(data, np.ndarray):\n",
    "                raise TypeError('{} is not supported'.format(type(data)))\n",
    "\n",
    "        self.data = data\n",
    "        self.grad = None\n",
    "        self.creator = None\n",
    "        self.generation = 0\n",
    "\n",
    "    def set_creator(self, func):\n",
    "        self.creator = func\n",
    "        self.generation = func.generation + 1  # 设置为父函数的generation+1\n",
    "\n",
    "    def clear_grad(self):  # 清空梯度\n",
    "        self.grad = None\n",
    "\n",
    "    def backward(self, retain_grad = False):  # 添加参数retain_grad\n",
    "        if self.grad is None:\n",
    "            self.grad = np.ones_like(self.data)\n",
    "\n",
    "        funcs = []\n",
    "        seen_set = set()  # 使用集合来保存已经遍历过的函数，避免重复遍历\n",
    "        def add_func(f):\n",
    "            if f not in seen_set:\n",
    "                heapq.heappush(funcs, f)\n",
    "                seen_set.add(f)\n",
    "\n",
    "        add_func(self.creator)  # 每添加一个函数，就调用add_func方法进行排序\n",
    "\n",
    "        while funcs:\n",
    "            f = heapq.heappop(funcs)  \n",
    "            # 下面要使用output()来获取Variable实例，因为outputs是weakref\n",
    "            gys = [output().grad for output in f.outputs]  # 1. 将output的grad收集起来\n",
    "            gxs = f.backward(*gys)  # 2. 使用backward方法计算梯度\n",
    "            if not isinstance(gxs, tuple):  # 3. 如果backward的返回值不是元组，则转换为元组\n",
    "                gxs = (gxs,)\n",
    "            \n",
    "            for x, gx in zip(f.inputs, gxs):  # 4. 将梯度传递给输入变量\n",
    "                if x.grad is None:\n",
    "                    x.grad = gx\n",
    "                else:\n",
    "                    x.grad = x.grad + gx  # 添加判断，如果此时grad已经有值了则累加\n",
    "                if x.creator is not None:\n",
    "                    add_func(x.creator)\n",
    "            \n",
    "            if not retain_grad:\n",
    "                for y in f.outputs:\n",
    "                    y().grad = None  # 释放中间变量的梯度"
   ]
  },
  {
   "cell_type": "code",
   "execution_count": 6,
   "metadata": {},
   "outputs": [
    {
     "name": "stdout",
     "output_type": "stream",
     "text": [
      "None None\n",
      "2.0 1.0\n"
     ]
    }
   ],
   "source": [
    "x0 = Variable(np.array(1.0))\n",
    "x1 = Variable(np.array(1.0))\n",
    "t = add(x0, x1)\n",
    "y = add(x0, t)\n",
    "y.backward()\n",
    "\n",
    "print(y.grad, t.grad)  # none none\n",
    "print(x0.grad, x1.grad)  # 2.0 1.0"
   ]
  },
  {
   "cell_type": "markdown",
   "metadata": {},
   "source": [
    "反向传播阶段需要正向传播的计算结果，所以我们需要保存这些结果。\n",
    "\n",
    "不过有些时候并不需要求导，此时我们没有必要保留正向传播的计算结果。（比如推理阶段）"
   ]
  },
  {
   "cell_type": "code",
   "execution_count": 4,
   "metadata": {},
   "outputs": [],
   "source": [
    "class Config:\n",
    "    enable_backprop = True"
   ]
  },
  {
   "cell_type": "code",
   "execution_count": 6,
   "metadata": {},
   "outputs": [],
   "source": [
    "class Function:\n",
    "    def __call__(self, *inputs):\n",
    "        xs = [x.data for x in inputs]\n",
    "        ys = self.forward(*xs)\n",
    "        if not isinstance(ys, tuple):\n",
    "            ys = (ys,)\n",
    "        outputs = [Variable(as_array(y)) for y in ys]\n",
    "\n",
    "        if Config.enable_backprop:  # 只有在开启了反向传播的情况下才会执行\n",
    "            # 如果不启用backprop，包括辈分值、计算的连接关系都可以不用设置\n",
    "            self.generation = max([x.generation for x in inputs])  # 设置为输入的max generation\n",
    "            for output in outputs:\n",
    "                output.set_creator(self)\n",
    "            self.inputs = inputs\n",
    "            self.outputs = [weakref.ref(output) for output in outputs]  # 使用weakref\n",
    "        return outputs if len(outputs) > 1 else outputs[0]\n",
    "    \n",
    "    def __lt__(self, other):  # 为了使用heapq，需要实现小于比较\n",
    "        return self.generation > other.generation\n",
    "\n",
    "    def forward(self, xs):\n",
    "        raise NotImplementedError()\n",
    "\n",
    "    def backward(self, gys):\n",
    "        raise NotImplementedError()"
   ]
  },
  {
   "cell_type": "code",
   "execution_count": 11,
   "metadata": {},
   "outputs": [],
   "source": [
    "Config.enable_backprop = True\n",
    "x = Variable(np.ones((100, 100, 100)))\n",
    "y = square(square(square(x)))\n",
    "y.backward()\n",
    "\n",
    "Config.enable_backprop = False\n",
    "x = Variable(np.ones((100, 100, 100)))\n",
    "y = square(square(square(x)))"
   ]
  },
  {
   "cell_type": "markdown",
   "metadata": {},
   "source": [
    "使用上下文管理器让模式切换更加方便。"
   ]
  },
  {
   "cell_type": "code",
   "execution_count": 7,
   "metadata": {},
   "outputs": [],
   "source": [
    "# 使用上下文管理器来控制Config.enable_backprop的值\n",
    "@contextlib.contextmanager\n",
    "def using_config(name, value):\n",
    "    old_value = getattr(Config, name)\n",
    "    setattr(Config, name, value)\n",
    "    try:\n",
    "        yield\n",
    "    finally:\n",
    "        setattr(Config, name, old_value)"
   ]
  },
  {
   "cell_type": "code",
   "execution_count": 14,
   "metadata": {},
   "outputs": [],
   "source": [
    "with using_config('enable_backprop', False):\n",
    "    x = Variable(np.array(2.0))\n",
    "    y = square(x)"
   ]
  },
  {
   "cell_type": "code",
   "execution_count": 8,
   "metadata": {},
   "outputs": [],
   "source": [
    "# 进一步封装\n",
    "def no_grad():\n",
    "    return using_config('enable_backprop', False)"
   ]
  },
  {
   "cell_type": "code",
   "execution_count": 16,
   "metadata": {},
   "outputs": [],
   "source": [
    "with no_grad():\n",
    "    x = Variable(np.array(2.0))\n",
    "    y = square(x)"
   ]
  },
  {
   "cell_type": "markdown",
   "metadata": {},
   "source": [
    "## Step 19: Make variables easier to use"
   ]
  },
  {
   "cell_type": "markdown",
   "metadata": {},
   "source": [
    "1. 为变量设置名字，方便调试\n",
    "2. 让变量看上去更像numpy的ndarray\n",
    "3. 支持len函数和print函数"
   ]
  },
  {
   "cell_type": "code",
   "execution_count": 9,
   "metadata": {},
   "outputs": [],
   "source": [
    "class Variable:\n",
    "    def __init__(self, data, name=None):\n",
    "        if data is not None:\n",
    "            if not isinstance(data, np.ndarray):\n",
    "                raise TypeError('{} is not supported'.format(type(data)))\n",
    "\n",
    "        self.data = data\n",
    "        self.name = name  # 添加name属性\n",
    "        self.grad = None\n",
    "        self.creator = None\n",
    "        self.generation = 0\n",
    "\n",
    "    @property\n",
    "    def shape(self):\n",
    "        return self.data.shape\n",
    "\n",
    "    @property\n",
    "    def ndim(self):\n",
    "        return self.data.ndim\n",
    "\n",
    "    @property\n",
    "    def size(self):\n",
    "        return self.data.size\n",
    "\n",
    "    @property\n",
    "    def dtype(self):\n",
    "        return self.data.dtype\n",
    "\n",
    "    def __len__(self):\n",
    "        return len(self.data)\n",
    "\n",
    "    def __repr__(self):\n",
    "        if self.data is None:\n",
    "            return 'variable(None)'\n",
    "        p = str(self.data).replace('\\n', '\\n' + ' ' * 9)\n",
    "        return 'variable(' + p + ')'\n",
    "\n",
    "    def set_creator(self, func):\n",
    "        self.creator = func\n",
    "        self.generation = func.generation + 1\n",
    "\n",
    "    def cleargrad(self):\n",
    "        self.grad = None\n",
    "\n",
    "    def backward(self, retain_grad=False):\n",
    "        if self.grad is None:\n",
    "            self.grad = np.ones_like(self.data)\n",
    "\n",
    "        funcs = []\n",
    "        seen_set = set()\n",
    "\n",
    "        def add_func(f):\n",
    "            if f not in seen_set:\n",
    "                heapq.heappush(funcs, f)\n",
    "                seen_set.add(f)\n",
    "\n",
    "        add_func(self.creator)\n",
    "\n",
    "        while funcs:\n",
    "            f = heapq.heappop(funcs)  \n",
    "            gys = [output().grad for output in f.outputs]  # output is weakref\n",
    "            gxs = f.backward(*gys)\n",
    "            if not isinstance(gxs, tuple):\n",
    "                gxs = (gxs,)\n",
    "\n",
    "            for x, gx in zip(f.inputs, gxs):\n",
    "                if x.grad is None:\n",
    "                    x.grad = gx\n",
    "                else:\n",
    "                    x.grad = x.grad + gx\n",
    "\n",
    "                if x.creator is not None:\n",
    "                    add_func(x.creator)\n",
    "\n",
    "            if not retain_grad:\n",
    "                for y in f.outputs:\n",
    "                    y().grad = None  # y is weakref"
   ]
  },
  {
   "cell_type": "code",
   "execution_count": 10,
   "metadata": {},
   "outputs": [
    {
     "name": "stdout",
     "output_type": "stream",
     "text": [
      "x\n",
      "(2, 3)\n",
      "variable([[1 2 3]\n",
      "          [4 5 6]])\n"
     ]
    }
   ],
   "source": [
    "x = Variable(np.array([[1, 2, 3], [4, 5, 6]]))\n",
    "x.name = 'x'\n",
    "\n",
    "print(x.name)\n",
    "print(x.shape)\n",
    "print(x)"
   ]
  },
  {
   "cell_type": "markdown",
   "metadata": {},
   "source": [
    "## gather all things above"
   ]
  },
  {
   "cell_type": "code",
   "execution_count": 29,
   "metadata": {},
   "outputs": [],
   "source": [
    "class Config:\n",
    "    enable_backprop = True\n",
    "\n",
    "# 使用上下文管理器来控制Config.enable_backprop的值\n",
    "@contextlib.contextmanager\n",
    "def using_config(name, value):\n",
    "    old_value = getattr(Config, name)\n",
    "    setattr(Config, name, value)\n",
    "    try:\n",
    "        yield\n",
    "    finally:\n",
    "        setattr(Config, name, old_value)\n",
    "\n",
    "# 进一步封装\n",
    "def no_grad():\n",
    "    return using_config('enable_backprop', False)"
   ]
  },
  {
   "cell_type": "code",
   "execution_count": 30,
   "metadata": {},
   "outputs": [],
   "source": [
    "class Variable:\n",
    "    def __init__(self, data, name=None):\n",
    "        if data is not None:\n",
    "            if not isinstance(data, np.ndarray):\n",
    "                raise TypeError('{} is not supported'.format(type(data)))\n",
    "\n",
    "        self.data = data\n",
    "        self.name = name  # 添加name属性\n",
    "        self.grad = None\n",
    "        self.creator = None\n",
    "        self.generation = 0\n",
    "\n",
    "    @property\n",
    "    def shape(self):\n",
    "        return self.data.shape\n",
    "\n",
    "    @property\n",
    "    def ndim(self):\n",
    "        return self.data.ndim\n",
    "\n",
    "    @property\n",
    "    def size(self):\n",
    "        return self.data.size\n",
    "\n",
    "    @property\n",
    "    def dtype(self):\n",
    "        return self.data.dtype\n",
    "\n",
    "    def __len__(self):\n",
    "        return len(self.data)\n",
    "\n",
    "    def __repr__(self):\n",
    "        if self.data is None:\n",
    "            return 'variable(None)'\n",
    "        p = str(self.data).replace('\\n', '\\n' + ' ' * 9)\n",
    "        return 'variable(' + p + ')'\n",
    "\n",
    "    def set_creator(self, func):\n",
    "        self.creator = func\n",
    "        self.generation = func.generation + 1\n",
    "\n",
    "    def cleargrad(self):\n",
    "        self.grad = None\n",
    "\n",
    "    def backward(self, retain_grad=False):\n",
    "        if self.grad is None:\n",
    "            self.grad = np.ones_like(self.data)\n",
    "\n",
    "        funcs = []\n",
    "        seen_set = set()\n",
    "\n",
    "        def add_func(f):\n",
    "            if f not in seen_set:\n",
    "                heapq.heappush(funcs, f)\n",
    "                seen_set.add(f)\n",
    "\n",
    "        add_func(self.creator)\n",
    "\n",
    "        while funcs:\n",
    "            f = heapq.heappop(funcs)  \n",
    "            gys = [output().grad for output in f.outputs]  # output is weakref\n",
    "            gxs = f.backward(*gys)\n",
    "            if not isinstance(gxs, tuple):\n",
    "                gxs = (gxs,)\n",
    "\n",
    "            for x, gx in zip(f.inputs, gxs):\n",
    "                if x.grad is None:\n",
    "                    x.grad = gx\n",
    "                else:\n",
    "                    x.grad = x.grad + gx\n",
    "\n",
    "                if x.creator is not None:\n",
    "                    add_func(x.creator)\n",
    "\n",
    "            if not retain_grad:\n",
    "                for y in f.outputs:\n",
    "                    y().grad = None  # y is weakref"
   ]
  },
  {
   "cell_type": "code",
   "execution_count": 31,
   "metadata": {},
   "outputs": [],
   "source": [
    "def as_array(x):\n",
    "    if np.isscalar(x):\n",
    "        return np.array(x)\n",
    "    return x\n",
    "\n",
    "class Function:\n",
    "    def __call__(self, *inputs):\n",
    "        xs = [x.data for x in inputs]\n",
    "        ys = self.forward(*xs)\n",
    "        if not isinstance(ys, tuple):\n",
    "            ys = (ys,)\n",
    "        outputs = [Variable(as_array(y)) for y in ys]\n",
    "\n",
    "        if Config.enable_backprop:  # 只有在开启了反向传播的情况下才会执行\n",
    "            # 如果不启用backprop，包括辈分值、计算的连接关系都可以不用设置\n",
    "            self.generation = max([x.generation for x in inputs])  # 设置为输入的max generation\n",
    "            for output in outputs:\n",
    "                output.set_creator(self)\n",
    "            self.inputs = inputs\n",
    "            self.outputs = [weakref.ref(output) for output in outputs]  # 使用weakref\n",
    "        return outputs if len(outputs) > 1 else outputs[0]\n",
    "    \n",
    "    def __lt__(self, other):  # 为了使用heapq，需要实现小于比较\n",
    "        return self.generation > other.generation\n",
    "\n",
    "    def forward(self, xs):\n",
    "        raise NotImplementedError()\n",
    "\n",
    "    def backward(self, gys):\n",
    "        raise NotImplementedError()"
   ]
  },
  {
   "cell_type": "code",
   "execution_count": 34,
   "metadata": {},
   "outputs": [],
   "source": [
    "class Square(Function):\n",
    "    def forward(self, x):\n",
    "        y = x ** 2\n",
    "        return y\n",
    "\n",
    "    def backward(self, gy):\n",
    "        x = self.inputs[0].data\n",
    "        gx = 2 * x * gy\n",
    "        return gx\n",
    "\n",
    "def square(x):\n",
    "    return Square()(x)\n",
    "\n",
    "class Add(Function):\n",
    "    def forward(self, x0, x1):\n",
    "        y = x0 + x1\n",
    "        return y\n",
    "\n",
    "    def backward(self, gy):\n",
    "        return gy, gy\n",
    "\n",
    "def add(x0, x1):\n",
    "    return Add()(x0, x1)"
   ]
  },
  {
   "cell_type": "markdown",
   "metadata": {},
   "source": [
    "## Step 20: Operator overloading Ⅰ"
   ]
  },
  {
   "cell_type": "markdown",
   "metadata": {},
   "source": [
    "重载+和*运算符，使得DeZero可以使用自然的代码来表达。"
   ]
  },
  {
   "cell_type": "code",
   "execution_count": 35,
   "metadata": {},
   "outputs": [],
   "source": [
    "class Mul(Function):\n",
    "    def forward(self, x0, x1):\n",
    "        y = x0 * x1\n",
    "        return y\n",
    "\n",
    "    def backward(self, gy):\n",
    "        x0, x1 = self.inputs[0].data, self.inputs[1].data  # inputs是元组\n",
    "        return gy * x1, gy * x0\n",
    "\n",
    "def mul(x0, x1):\n",
    "    return Mul()(x0, x1)"
   ]
  },
  {
   "cell_type": "code",
   "execution_count": 16,
   "metadata": {},
   "outputs": [
    {
     "name": "stdout",
     "output_type": "stream",
     "text": [
      "variable(7.0)\n",
      "2.0\n",
      "3.0\n"
     ]
    }
   ],
   "source": [
    "a = Variable(np.array(3.0))\n",
    "b = Variable(np.array(2.0))\n",
    "c = Variable(np.array(1.0))\n",
    "\n",
    "y = add(mul(a, b), c)\n",
    "\n",
    "y.backward()\n",
    "\n",
    "print(y)  # variable(7.0)\n",
    "print(a.grad)  # 2.0\n",
    "print(b.grad)  # 3.0"
   ]
  },
  {
   "cell_type": "code",
   "execution_count": 36,
   "metadata": {},
   "outputs": [],
   "source": [
    "Variable.__add__ = add\n",
    "Variable.__mul__ = mul"
   ]
  },
  {
   "cell_type": "code",
   "execution_count": 18,
   "metadata": {},
   "outputs": [
    {
     "name": "stdout",
     "output_type": "stream",
     "text": [
      "variable(7.0)\n",
      "2.0\n",
      "3.0\n"
     ]
    }
   ],
   "source": [
    "a = Variable(np.array(3.0))\n",
    "b = Variable(np.array(2.0))\n",
    "c = Variable(np.array(1.0))\n",
    "\n",
    "y = a * b + c\n",
    "y.backward()\n",
    "\n",
    "print(y)  # variable(7.0)\n",
    "print(a.grad)  # 2.0\n",
    "print(b.grad)  # 3.0"
   ]
  },
  {
   "cell_type": "markdown",
   "metadata": {},
   "source": [
    "## Step 21: Operator overloading Ⅱ"
   ]
  },
  {
   "cell_type": "markdown",
   "metadata": {},
   "source": [
    "目前还不支持variable和ndarray的运算，添加代码，使可以与更多类型进行运算。"
   ]
  },
  {
   "cell_type": "code",
   "execution_count": 32,
   "metadata": {},
   "outputs": [],
   "source": [
    "def as_variable(obj):\n",
    "    if isinstance(obj, Variable):\n",
    "        return obj\n",
    "    return Variable(obj)"
   ]
  },
  {
   "cell_type": "code",
   "execution_count": 33,
   "metadata": {},
   "outputs": [],
   "source": [
    "class Function:\n",
    "    def __call__(self, *inputs):\n",
    "        inputs = [as_variable(x) for x in inputs]  # 修改这里，将输入转换为Variable\n",
    "\n",
    "        xs = [x.data for x in inputs]\n",
    "        ys = self.forward(*xs)\n",
    "        if not isinstance(ys, tuple):\n",
    "            ys = (ys,)\n",
    "        outputs = [Variable(as_array(y)) for y in ys]\n",
    "\n",
    "        if Config.enable_backprop:  # 只有在开启了反向传播的情况下才会执行\n",
    "            # 如果不启用backprop，包括辈分值、计算的连接关系都可以不用设置\n",
    "            self.generation = max([x.generation for x in inputs])  # 设置为输入的max generation\n",
    "            for output in outputs:\n",
    "                output.set_creator(self)\n",
    "            self.inputs = inputs\n",
    "            self.outputs = [weakref.ref(output) for output in outputs]  # 使用weakref\n",
    "        return outputs if len(outputs) > 1 else outputs[0]\n",
    "    \n",
    "    def __lt__(self, other):  # 为了使用heapq，需要实现小于比较\n",
    "        return self.generation > other.generation\n",
    "\n",
    "    def forward(self, xs):\n",
    "        raise NotImplementedError()\n",
    "\n",
    "    def backward(self, gys):\n",
    "        raise NotImplementedError()"
   ]
  },
  {
   "cell_type": "code",
   "execution_count": 37,
   "metadata": {},
   "outputs": [
    {
     "name": "stdout",
     "output_type": "stream",
     "text": [
      "variable(5.0)\n"
     ]
    }
   ],
   "source": [
    "x = Variable(np.array(2.0))\n",
    "y = x + np.array(3.0)\n",
    "print(y)  # variable(5.0)"
   ]
  },
  {
   "cell_type": "code",
   "execution_count": 38,
   "metadata": {},
   "outputs": [],
   "source": [
    "class Mul(Function):\n",
    "    def forward(self, x0, x1):\n",
    "        y = x0 * x1\n",
    "        return y\n",
    "\n",
    "    def backward(self, gy):\n",
    "        x0, x1 = self.inputs[0].data, self.inputs[1].data  # inputs是元组\n",
    "        return gy * x1, gy * x0\n",
    "\n",
    "def mul(x0, x1):\n",
    "    x1 = as_array(x1)  # 将x1转换为ndarray，保证能够进行乘法运算\n",
    "    return Mul()(x0, x1)\n",
    "\n",
    "class Add(Function):\n",
    "    def forward(self, x0, x1):\n",
    "        y = x0 + x1\n",
    "        return y\n",
    "\n",
    "    def backward(self, gy):\n",
    "        return gy, gy\n",
    "\n",
    "def add(x0, x1):\n",
    "    x1 = as_array(x1)  # 将x1转换为ndarray，保证能够进行加法运算\n",
    "    return Add()(x0, x1)"
   ]
  },
  {
   "cell_type": "code",
   "execution_count": 39,
   "metadata": {},
   "outputs": [],
   "source": [
    "# 重载运算符，左项和右项都重载。因为加法和乘法是可交换的，所以左右重载是一样的\n",
    "Variable.__add__ = add\n",
    "Variable.__radd__ = add\n",
    "Variable.__mul__ = mul\n",
    "Variable.__rmul__ = mul"
   ]
  },
  {
   "cell_type": "code",
   "execution_count": 40,
   "metadata": {},
   "outputs": [
    {
     "name": "stdout",
     "output_type": "stream",
     "text": [
      "variable(7.0)\n"
     ]
    }
   ],
   "source": [
    "x = Variable(np.array(2.0))\n",
    "y = 3.0 * x + 1.0\n",
    "print(y)  # variable(7.0)"
   ]
  },
  {
   "cell_type": "markdown",
   "metadata": {},
   "source": [
    "但是目前如果左项是ndarray，右项是variable，会报错，因为python会先调用ndarray的__add__方法，而ndarray没有实现与variable的运算。  \n",
    "将variable的优先级提高，使得variable的__add__方法先被调用。"
   ]
  },
  {
   "cell_type": "code",
   "execution_count": 41,
   "metadata": {},
   "outputs": [],
   "source": [
    "class Variable:\n",
    "    __array_priority__ = 200  # 优先级设置为200\n",
    "\n",
    "    def __init__(self, data, name=None):\n",
    "        if data is not None:\n",
    "            if not isinstance(data, np.ndarray):\n",
    "                raise TypeError('{} is not supported'.format(type(data)))\n",
    "\n",
    "        self.data = data\n",
    "        self.name = name  # 添加name属性\n",
    "        self.grad = None\n",
    "        self.creator = None\n",
    "        self.generation = 0\n",
    "\n",
    "    @property\n",
    "    def shape(self):\n",
    "        return self.data.shape\n",
    "\n",
    "    @property\n",
    "    def ndim(self):\n",
    "        return self.data.ndim\n",
    "\n",
    "    @property\n",
    "    def size(self):\n",
    "        return self.data.size\n",
    "\n",
    "    @property\n",
    "    def dtype(self):\n",
    "        return self.data.dtype\n",
    "\n",
    "    def __len__(self):\n",
    "        return len(self.data)\n",
    "\n",
    "    def __repr__(self):\n",
    "        if self.data is None:\n",
    "            return 'variable(None)'\n",
    "        p = str(self.data).replace('\\n', '\\n' + ' ' * 9)\n",
    "        return 'variable(' + p + ')'\n",
    "\n",
    "    def set_creator(self, func):\n",
    "        self.creator = func\n",
    "        self.generation = func.generation + 1\n",
    "\n",
    "    def cleargrad(self):\n",
    "        self.grad = None\n",
    "\n",
    "    def backward(self, retain_grad=False):\n",
    "        if self.grad is None:\n",
    "            self.grad = np.ones_like(self.data)\n",
    "\n",
    "        funcs = []\n",
    "        seen_set = set()\n",
    "\n",
    "        def add_func(f):\n",
    "            if f not in seen_set:\n",
    "                heapq.heappush(funcs, f)\n",
    "                seen_set.add(f)\n",
    "\n",
    "        add_func(self.creator)\n",
    "\n",
    "        while funcs:\n",
    "            f = heapq.heappop(funcs)  \n",
    "            gys = [output().grad for output in f.outputs]  # output is weakref\n",
    "            gxs = f.backward(*gys)\n",
    "            if not isinstance(gxs, tuple):\n",
    "                gxs = (gxs,)\n",
    "\n",
    "            for x, gx in zip(f.inputs, gxs):\n",
    "                if x.grad is None:\n",
    "                    x.grad = gx\n",
    "                else:\n",
    "                    x.grad = x.grad + gx\n",
    "\n",
    "                if x.creator is not None:\n",
    "                    add_func(x.creator)\n",
    "\n",
    "            if not retain_grad:\n",
    "                for y in f.outputs:\n",
    "                    y().grad = None  # y is weakref"
   ]
  },
  {
   "cell_type": "markdown",
   "metadata": {},
   "source": [
    "## Step 22: Operator overloading Ⅲ"
   ]
  },
  {
   "cell_type": "markdown",
   "metadata": {},
   "source": [
    "重载更多的运算符，使得DeZero可以使用自然的代码来表达：\n",
    "1. 负数\n",
    "2. 减法\n",
    "3. 除法\n",
    "4. 幂运算\n",
    "5. +=和-=运算\n",
    "\n",
    "重载的步骤：\n",
    "1. 继承Function类并实现所需的函数类（Mul类）\n",
    "2. 使其能做为python函数使用（mul函数）\n",
    "3. 为Variable类添加运算符重载方法（Variable.\\_\\_mul\\_\\_=mul）"
   ]
  },
  {
   "cell_type": "code",
   "execution_count": 42,
   "metadata": {},
   "outputs": [],
   "source": [
    "class Neg(Function):\n",
    "    def forward(self, x):\n",
    "        return -x\n",
    "\n",
    "    def backward(self, gy):\n",
    "        return -gy\n",
    "\n",
    "def neg(x):\n",
    "    return Neg()(x)\n",
    "\n",
    "Variable.__neg__ = neg"
   ]
  },
  {
   "cell_type": "code",
   "execution_count": 43,
   "metadata": {},
   "outputs": [
    {
     "name": "stdout",
     "output_type": "stream",
     "text": [
      "variable(-2.0)\n"
     ]
    }
   ],
   "source": [
    "x = Variable(np.array(2.0))\n",
    "y = -x\n",
    "print(y)  # variable(-2.0)"
   ]
  },
  {
   "cell_type": "code",
   "execution_count": 45,
   "metadata": {},
   "outputs": [],
   "source": [
    "class Sub(Function):\n",
    "    def forward(self, x0, x1):\n",
    "        y = x0 - x1\n",
    "        return y\n",
    "\n",
    "    def backward(self, gy):\n",
    "        return gy, -gy\n",
    "    \n",
    "def sub(x0, x1):\n",
    "    x1 = as_array(x1)\n",
    "    return Sub()(x0, x1)\n",
    "\n",
    "def rsub(x0, x1):\n",
    "    x1 = as_array(x1)\n",
    "    return Sub()(x1, x0)  # 减法是不可交换的，所以需要调换顺序\n",
    "\n",
    "Variable.__sub__ = sub\n",
    "Variable.__rsub__ = rsub"
   ]
  },
  {
   "cell_type": "code",
   "execution_count": 46,
   "metadata": {},
   "outputs": [
    {
     "name": "stdout",
     "output_type": "stream",
     "text": [
      "variable(0.0)\n",
      "variable(1.0)\n"
     ]
    }
   ],
   "source": [
    "x = Variable(np.array(2.0))\n",
    "y1 = 2.0 - x\n",
    "y2 = x - 1.0\n",
    "print(y1)  # variable(0.0)\n",
    "print(y2)  # variable(1.0)"
   ]
  },
  {
   "cell_type": "code",
   "execution_count": 47,
   "metadata": {},
   "outputs": [],
   "source": [
    "class Div(Function):\n",
    "    def forward(self, x0, x1):\n",
    "        y = x0 / x1\n",
    "        return y\n",
    "\n",
    "    def backward(self, gy):\n",
    "        x0, x1 = self.inputs[0].data, self.inputs[1].data\n",
    "        gx0 = gy / x1\n",
    "        gx1 = gy * (-x0 / x1 ** 2)\n",
    "        return gx0, gx1\n",
    "    \n",
    "def div(x0, x1):\n",
    "    x1 = as_array(x1)\n",
    "    return Div()(x0, x1)\n",
    "\n",
    "def rdiv(x0, x1):\n",
    "    x1 = as_array(x1)\n",
    "    return Div()(x1, x0)\n",
    "\n",
    "Variable.__truediv__ = div\n",
    "Variable.__rtruediv__ = rdiv"
   ]
  },
  {
   "cell_type": "code",
   "execution_count": 49,
   "metadata": {},
   "outputs": [
    {
     "name": "stdout",
     "output_type": "stream",
     "text": [
      "variable(1.0)\n",
      "variable(1.0)\n"
     ]
    }
   ],
   "source": [
    "x = Variable(np.array(2.0))\n",
    "y1 = 2.0 / x\n",
    "y2 = x / 2.0\n",
    "\n",
    "print(y1)  # variable(1.0)\n",
    "print(y2)  # variable(1.0)"
   ]
  },
  {
   "cell_type": "code",
   "execution_count": 48,
   "metadata": {},
   "outputs": [],
   "source": [
    "class Pow(Function):\n",
    "    def __init__(self, c):\n",
    "        self.c = c\n",
    "\n",
    "    def forward(self, x):\n",
    "        y = x ** self.c\n",
    "        return y\n",
    "\n",
    "    def backward(self, gy):\n",
    "        x = self.inputs[0].data\n",
    "        c = self.c\n",
    "        gx = c * x ** (c - 1) * gy\n",
    "        return gx\n",
    "\n",
    "def pow(x, c):\n",
    "    return Pow(c)(x)\n",
    "\n",
    "Variable.__pow__ = pow"
   ]
  },
  {
   "cell_type": "code",
   "execution_count": 50,
   "metadata": {},
   "outputs": [
    {
     "name": "stdout",
     "output_type": "stream",
     "text": [
      "variable(8.0)\n"
     ]
    }
   ],
   "source": [
    "x = Variable(np.array(2.0))\n",
    "y = x ** 3\n",
    "print(y)  # variable(8.0)"
   ]
  },
  {
   "cell_type": "code",
   "execution_count": 51,
   "metadata": {},
   "outputs": [],
   "source": [
    "Variable.__iadd__ = add\n",
    "Variable.__isub__ = sub\n",
    "Variable.__imul__ = mul\n",
    "Variable.__itruediv__ = div"
   ]
  },
  {
   "cell_type": "code",
   "execution_count": 52,
   "metadata": {},
   "outputs": [
    {
     "name": "stdout",
     "output_type": "stream",
     "text": [
      "variable(3.0)\n",
      "variable(6.0)\n",
      "variable(3.0)\n",
      "variable(1.0)\n"
     ]
    }
   ],
   "source": [
    "x = Variable(np.array(1.0))\n",
    "x += 2.0\n",
    "print(x)  # variable(3.0)\n",
    "x *= 2.0\n",
    "print(x)  # variable(6.0)\n",
    "x /= 2.0\n",
    "print(x)  # variable(3.0)\n",
    "x -= 2.0\n",
    "print(x)  # variable(1.0)"
   ]
  },
  {
   "cell_type": "markdown",
   "metadata": {},
   "source": [
    "## Step 23: Package DeZero"
   ]
  },
  {
   "cell_type": "markdown",
   "metadata": {},
   "source": [
    "把项目打包成一个包，使得可以在其他地方使用DeZero"
   ]
  },
  {
   "cell_type": "code",
   "execution_count": 53,
   "metadata": {},
   "outputs": [
    {
     "name": "stdout",
     "output_type": "stream",
     "text": [
      "variable(1.0)\n"
     ]
    }
   ],
   "source": [
    "from dezero.core_simple import Variable\n",
    "\n",
    "x = Variable(np.array(1.0))\n",
    "print(x)  # variable(1.0)"
   ]
  },
  {
   "cell_type": "code",
   "execution_count": 2,
   "metadata": {},
   "outputs": [
    {
     "name": "stdout",
     "output_type": "stream",
     "text": [
      "variable(16.0)\n",
      "8.0\n"
     ]
    }
   ],
   "source": [
    "from dezero import Variable\n",
    "\n",
    "x = Variable(np.array(1.0))\n",
    "y = (x + 3) ** 2\n",
    "y.backward()\n",
    "\n",
    "print(y)  # variable(16.0)\n",
    "print(x.grad)  # 8.0"
   ]
  },
  {
   "cell_type": "markdown",
   "metadata": {},
   "source": [
    "## Step 24: Derivatives of complex functions\n",
    "\n",
    "1. Sphere函数\n",
    "2. Matyas函数\n",
    "3. Goldstein-Price函数"
   ]
  },
  {
   "cell_type": "code",
   "execution_count": 2,
   "metadata": {},
   "outputs": [],
   "source": [
    "from dezero import Variable"
   ]
  },
  {
   "cell_type": "code",
   "execution_count": 3,
   "metadata": {},
   "outputs": [
    {
     "name": "stdout",
     "output_type": "stream",
     "text": [
      "2.0 2.0\n"
     ]
    }
   ],
   "source": [
    "def sphere(x, y):\n",
    "    z = x ** 2 + y ** 2\n",
    "    return z\n",
    "\n",
    "x = Variable(np.array(1.0))\n",
    "y = Variable(np.array(1.0))\n",
    "z = sphere(x, y)\n",
    "z.backward()\n",
    "print(x.grad, y.grad)  # 2.0 2.0"
   ]
  },
  {
   "cell_type": "code",
   "execution_count": 4,
   "metadata": {},
   "outputs": [
    {
     "name": "stdout",
     "output_type": "stream",
     "text": [
      "0.040000000000000036 0.040000000000000036\n"
     ]
    }
   ],
   "source": [
    "def matyas(x, y):\n",
    "    z = 0.26 * (x ** 2 + y ** 2) - 0.48 * x * y\n",
    "    return z\n",
    "\n",
    "x = Variable(np.array(1.0))\n",
    "y = Variable(np.array(1.0))\n",
    "z = matyas(x, y)\n",
    "z.backward()\n",
    "print(x.grad, y.grad)  # 0.04 0.04"
   ]
  },
  {
   "cell_type": "code",
   "execution_count": 5,
   "metadata": {},
   "outputs": [
    {
     "name": "stdout",
     "output_type": "stream",
     "text": [
      "-5376.0 8064.0\n"
     ]
    }
   ],
   "source": [
    "def goldstein(x, y):\n",
    "    z = (1 + (x + y + 1) ** 2 * (19 - 14 * x + 3 * x ** 2 - 14 * y + 6 * x * y + 3 * y ** 2)) * \\\n",
    "        (30 + (2 * x - 3 * y) ** 2 * (18 - 32 * x + 12 * x ** 2 + 48 * y - 36 * x * y + 27 * y ** 2))\n",
    "    return z\n",
    "\n",
    "x = Variable(np.array(1.0))\n",
    "y = Variable(np.array(1.0))\n",
    "z = goldstein(x, y)\n",
    "z.backward()\n",
    "print(x.grad, y.grad)  # -5376.0 8064.0"
   ]
  }
 ],
 "metadata": {
  "kernelspec": {
   "display_name": "dl_torch",
   "language": "python",
   "name": "python3"
  },
  "language_info": {
   "codemirror_mode": {
    "name": "ipython",
    "version": 3
   },
   "file_extension": ".py",
   "mimetype": "text/x-python",
   "name": "python",
   "nbconvert_exporter": "python",
   "pygments_lexer": "ipython3",
   "version": "3.7.4"
  }
 },
 "nbformat": 4,
 "nbformat_minor": 2
}
