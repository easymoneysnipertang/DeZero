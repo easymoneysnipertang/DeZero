{
 "cells": [
  {
   "cell_type": "markdown",
   "metadata": {},
   "source": [
    "# Stage 2: Express in natural code\n",
    "\n",
    "这个阶段的主要目标是扩展当前的 DeZero ，使它能够执行更复杂的计算。具体来说，我们将修改 DeZero 的基础代码，使它能够处理接收多个输入的函数和返回多个输出的函数。我们还将扩展 DeZero使它可以用自然的代码来表达，例如能够使用+和*等运算符。"
   ]
  },
  {
   "cell_type": "code",
   "execution_count": 1,
   "metadata": {},
   "outputs": [],
   "source": [
    "import numpy as np"
   ]
  },
  {
   "cell_type": "markdown",
   "metadata": {},
   "source": [
    "## Step 11: Variable length parameter (forward)"
   ]
  },
  {
   "cell_type": "markdown",
   "metadata": {},
   "source": [
    "Stage1中设计的函数输入输出都只有一个变量，下面需要拓展DeZero，使其可以处理可变长的输入和输出。"
   ]
  },
  {
   "cell_type": "code",
   "execution_count": 2,
   "metadata": {},
   "outputs": [],
   "source": [
    "class Variable:\n",
    "    def __init__(self, data):\n",
    "        if data is not None:\n",
    "            if not isinstance(data, np.ndarray):\n",
    "                raise TypeError('{} is not supported'.format(type(data)))\n",
    "\n",
    "        self.data = data\n",
    "        self.grad = None\n",
    "        self.creator = None\n",
    "\n",
    "    def set_creator(self, func):\n",
    "        self.creator = func\n",
    "\n",
    "    def backward(self):\n",
    "        if self.grad is None:\n",
    "            self.grad = np.ones_like(self.data)\n",
    "\n",
    "        funcs = [self.creator]\n",
    "        while funcs:\n",
    "            f = funcs.pop()\n",
    "            x, y = f.input, f.output\n",
    "            x.grad = f.backward(y.grad)\n",
    "\n",
    "            if x.creator is not None:\n",
    "                funcs.append(x.creator)"
   ]
  },
  {
   "cell_type": "code",
   "execution_count": 3,
   "metadata": {},
   "outputs": [],
   "source": [
    "def as_array(x):\n",
    "    if np.isscalar(x):\n",
    "        return np.array(x)\n",
    "    return x\n",
    "\n",
    "class Function:\n",
    "    def __call__(self, inputs):\n",
    "        # 将变量放入列表\n",
    "        xs = [x.data for x in inputs]  # Get data from Variable\n",
    "        ys = self.forward(xs)\n",
    "        outputs = [Variable(as_array(y)) for y in ys]  # Wrap data\n",
    "        # 逐个设置关联关系\n",
    "        for output in outputs:\n",
    "            output.set_creator(self)\n",
    "        self.inputs = inputs\n",
    "        self.outputs = outputs\n",
    "        return outputs\n",
    "\n",
    "    def forward(self, xs):\n",
    "        raise NotImplementedError()\n",
    "\n",
    "    def backward(self, gys):\n",
    "        raise NotImplementedError()"
   ]
  },
  {
   "cell_type": "code",
   "execution_count": 18,
   "metadata": {},
   "outputs": [],
   "source": [
    "class Add(Function):\n",
    "    def forward(self, xs):\n",
    "        x0, x1 = xs\n",
    "        y = x0 + x1\n",
    "        return (y,)  # return as tuple"
   ]
  },
  {
   "cell_type": "code",
   "execution_count": 15,
   "metadata": {},
   "outputs": [
    {
     "name": "stdout",
     "output_type": "stream",
     "text": [
      "<class 'list'> <class '__main__.Variable'>\n",
      "5\n"
     ]
    }
   ],
   "source": [
    "xs = [Variable(np.array(2)), Variable(np.array(3))]\n",
    "f = Add()\n",
    "ys = f(xs)\n",
    "print(type(ys), type(ys[0]))  # <class 'tuple'> <class '__main__.Variable'>\n",
    "y = ys[0]\n",
    "print(y.data)  # 5"
   ]
  },
  {
   "cell_type": "markdown",
   "metadata": {},
   "source": [
    "## Step 12: Variable length parameter (improve)"
   ]
  },
  {
   "cell_type": "markdown",
   "metadata": {},
   "source": [
    "改进上述代码，使得Add类更容易使用，也更容易实现。"
   ]
  },
  {
   "cell_type": "code",
   "execution_count": 16,
   "metadata": {},
   "outputs": [],
   "source": [
    "# 1. 让Add类更易用，传入多个参数时，不需要将参数打包成列表，而是直接传入多个参数\n",
    "class Function:\n",
    "    def __call__(self, *inputs):  # Change inputs to *inputs\n",
    "        xs = [x.data for x in inputs]  # 从inputs中取出data\n",
    "        ys = self.forward(xs)\n",
    "        outputs = [Variable(as_array(y)) for y in ys]\n",
    "\n",
    "        for output in outputs:\n",
    "            output.set_creator(self)\n",
    "        self.inputs = inputs\n",
    "        self.outputs = outputs\n",
    "\n",
    "        return outputs if len(outputs) > 1 else outputs[0]  # 如果outputs只有一个元素，则返回该元素\n",
    "\n",
    "    def forward(self, xs):\n",
    "        raise NotImplementedError()\n",
    "\n",
    "    def backward(self, gys):\n",
    "        raise NotImplementedError()\n"
   ]
  },
  {
   "cell_type": "code",
   "execution_count": 19,
   "metadata": {},
   "outputs": [
    {
     "name": "stdout",
     "output_type": "stream",
     "text": [
      "5\n"
     ]
    }
   ],
   "source": [
    "x0 = Variable(np.array(2))\n",
    "x1 = Variable(np.array(3))\n",
    "f = Add()\n",
    "y = f(x0, x1)\n",
    "print(y.data)  # 5"
   ]
  },
  {
   "cell_type": "code",
   "execution_count": 20,
   "metadata": {},
   "outputs": [],
   "source": [
    "# 2. 让Add类更容易实现，forward方法直接接收两个变量，直接返回结果变量\n",
    "class Function:\n",
    "    def __call__(self, *inputs):  # Change inputs to *inputs\n",
    "        xs = [x.data for x in inputs]  # 从inputs中取出data\n",
    "        ys = self.forward(*xs)  # 解包：使用*将列表拆分为单独的元素\n",
    "        if not isinstance(ys, tuple):  # 如果ys不是元组，则将其转换为元组\n",
    "            ys = (ys,)\n",
    "        outputs = [Variable(as_array(y)) for y in ys]\n",
    "\n",
    "        for output in outputs:\n",
    "            output.set_creator(self)\n",
    "        self.inputs = inputs\n",
    "        self.outputs = outputs\n",
    "\n",
    "        return outputs if len(outputs) > 1 else outputs[0]  # 如果outputs只有一个元素，则返回该元素\n",
    "\n",
    "    def forward(self, xs):\n",
    "        raise NotImplementedError()\n",
    "\n",
    "    def backward(self, gys):\n",
    "        raise NotImplementedError()\n",
    "\n",
    "class Add(Function):\n",
    "    def forward(self, x0, x1):\n",
    "        y = x0 + x1\n",
    "        return y"
   ]
  },
  {
   "cell_type": "code",
   "execution_count": 21,
   "metadata": {},
   "outputs": [],
   "source": [
    "class Add(Function):\n",
    "    def forward(self, x0, x1):\n",
    "        y = x0 + x1\n",
    "        return y\n",
    "    \n",
    "def add(x0, x1):\n",
    "    return Add()(x0, x1)"
   ]
  },
  {
   "cell_type": "code",
   "execution_count": 22,
   "metadata": {},
   "outputs": [
    {
     "name": "stdout",
     "output_type": "stream",
     "text": [
      "5\n"
     ]
    }
   ],
   "source": [
    "x0 = Variable(np.array(2))\n",
    "x1 = Variable(np.array(3))\n",
    "y = add(x0, x1)\n",
    "print(y.data)  # 5"
   ]
  },
  {
   "cell_type": "markdown",
   "metadata": {},
   "source": [
    "## Step 13: Variable length parameter (backward)"
   ]
  },
  {
   "cell_type": "markdown",
   "metadata": {},
   "source": [
    "加法的反向传播就是将输入的梯度原封不动地传递给输出\n",
    "<center>\n",
    "<table>\n",
    "  <tr>\n",
    "    <td><img src=\"./res/反向传播_偏导.png\" width=\"400\"/></td>\n",
    "  </tr>\n",
    "</table>\n",
    "</center>\n",
    "\n",
    "1. 将output的grad收集起来\n",
    "2. 使用backward方法计算梯度\n",
    "3. 如果backward的返回值不是元组，则转换为元组\n",
    "4. 将梯度传递给输入变量"
   ]
  },
  {
   "cell_type": "code",
   "execution_count": 23,
   "metadata": {},
   "outputs": [],
   "source": [
    "class Add(Function):\n",
    "    def forward(self, x0, x1):\n",
    "        y = x0 + x1\n",
    "        return y\n",
    "\n",
    "    def backward(self, gy):  \n",
    "        return gy, gy"
   ]
  },
  {
   "cell_type": "code",
   "execution_count": 24,
   "metadata": {},
   "outputs": [],
   "source": [
    "class Variable:\n",
    "    def __init__(self, data):\n",
    "        if data is not None:\n",
    "            if not isinstance(data, np.ndarray):\n",
    "                raise TypeError('{} is not supported'.format(type(data)))\n",
    "\n",
    "        self.data = data\n",
    "        self.grad = None\n",
    "        self.creator = None\n",
    "\n",
    "    def set_creator(self, func):\n",
    "        self.creator = func\n",
    "\n",
    "    def backward(self):\n",
    "        if self.grad is None:\n",
    "            self.grad = np.ones_like(self.data)\n",
    "\n",
    "        funcs = [self.creator]\n",
    "        while funcs:\n",
    "            f = funcs.pop()\n",
    "            gys = [output.grad for output in f.outputs]  # 1. 将output的grad收集起来\n",
    "            gxs = f.backward(*gys)  # 2. 使用backward方法计算梯度\n",
    "            if not isinstance(gxs, tuple):  # 3. 如果backward的返回值不是元组，则转换为元组\n",
    "                gxs = (gxs,)\n",
    "            \n",
    "            for x, gx in zip(f.inputs, gxs):  # 4. 将梯度传递给输入变量\n",
    "                x.grad = gx\n",
    "                if x.creator is not None:\n",
    "                    funcs.append(x.creator)\n"
   ]
  },
  {
   "cell_type": "code",
   "execution_count": 26,
   "metadata": {},
   "outputs": [],
   "source": [
    "class Square(Function):\n",
    "    def forward(self, x):\n",
    "        y = x ** 2\n",
    "        return y\n",
    "\n",
    "    def backward(self, gy):\n",
    "        x = self.inputs[0].data  # input是元组，取出第0个元素\n",
    "        gx = 2 * x * gy\n",
    "        return gx\n",
    "    \n",
    "def square(x):\n",
    "    return Square()(x)"
   ]
  },
  {
   "cell_type": "code",
   "execution_count": 27,
   "metadata": {},
   "outputs": [
    {
     "name": "stdout",
     "output_type": "stream",
     "text": [
      "13.0\n",
      "4.0\n",
      "6.0\n"
     ]
    }
   ],
   "source": [
    "x = Variable(np.array(2.0))\n",
    "y = Variable(np.array(3.0))\n",
    "\n",
    "z = add(square(x), square(y))\n",
    "z.backward()\n",
    "print(z.data)  # 13.0\n",
    "print(x.grad)  # 4.0\n",
    "print(y.grad)  # 6.0"
   ]
  }
 ],
 "metadata": {
  "kernelspec": {
   "display_name": "dl_torch",
   "language": "python",
   "name": "python3"
  },
  "language_info": {
   "codemirror_mode": {
    "name": "ipython",
    "version": 3
   },
   "file_extension": ".py",
   "mimetype": "text/x-python",
   "name": "python",
   "nbconvert_exporter": "python",
   "pygments_lexer": "ipython3",
   "version": "3.7.4"
  }
 },
 "nbformat": 4,
 "nbformat_minor": 2
}
