{
 "cells": [
  {
   "cell_type": "markdown",
   "metadata": {},
   "source": [
    "# Stage 4: Creating neural networks\n",
    "\n",
    "前面我们主要处理的变量是标量，但在机器学习领域，张量(多维数组)扮演着重要的角色。  \n",
    "这一阶段的目标是将 DeZero 扩展到机器学习，尤其是神经网络领域。"
   ]
  },
  {
   "cell_type": "code",
   "execution_count": 1,
   "metadata": {},
   "outputs": [],
   "source": [
    "import numpy as np\n",
    "import dezero.functions as F\n",
    "from dezero import Variable"
   ]
  },
  {
   "cell_type": "markdown",
   "metadata": {},
   "source": [
    "## Step 37: Processing tensors"
   ]
  },
  {
   "cell_type": "markdown",
   "metadata": {},
   "source": [
    "前面，我们处理的变量主要是标量。本步骤将将讨论使用张量时需要注意的地方，并为扩展DeZero做准备。"
   ]
  },
  {
   "cell_type": "code",
   "execution_count": 3,
   "metadata": {},
   "outputs": [
    {
     "name": "stdout",
     "output_type": "stream",
     "text": [
      "variable(0.8414709848078965)\n"
     ]
    }
   ],
   "source": [
    "x = Variable(np.array(1.0))\n",
    "y = F.sin(x)\n",
    "print(y)"
   ]
  },
  {
   "cell_type": "code",
   "execution_count": 5,
   "metadata": {},
   "outputs": [
    {
     "name": "stdout",
     "output_type": "stream",
     "text": [
      "variable([[ 0.84147098  0.90929743  0.14112001]\n",
      "          [-0.7568025  -0.95892427 -0.2794155 ]])\n",
      "variable([[11 22 33]\n",
      "          [44 55 66]])\n"
     ]
    }
   ],
   "source": [
    "# 会对多维数组进行逐元素运算，不改变形状\n",
    "x = Variable(np.array([[1, 2, 3], [4, 5, 6]]))\n",
    "y = F.sin(x)\n",
    "print(y)\n",
    "# 逐元素相加\n",
    "x = Variable(np.array([[1, 2, 3], [4, 5, 6]]))\n",
    "c = Variable(np.array([[10, 20, 30], [40, 50, 60]]))\n",
    "y = x + c\n",
    "print(y)"
   ]
  },
  {
   "cell_type": "markdown",
   "metadata": {},
   "source": [
    "在使用当前己实现函数的情况下，即使对张量进行计算，反向传播的代码也能\n",
    "正常工作：\n",
    "1. 以标量为对象实现了反向传播\n",
    "2. 向目前实现的 DeZero 函数传入张量，函数会将每个张量的元素作为标量进行计算\n",
    "3. 如果将张量的每个元素作为标量进行计算，那么以标量为前提实现的\n",
    "反向传播也会对张量的每个元素进行计算"
   ]
  },
  {
   "cell_type": "markdown",
   "metadata": {},
   "source": [
    "$\\mathbf{y} = F(\\mathbf{x})$向量求导（雅可比矩阵）：\n",
    "$$\n",
    "\\begin{align*}\n",
    "\\frac{\\partial \\mathbf{y}}{\\partial \\mathbf{x}} = \\left(\n",
    "\\begin{array}{ccc}\n",
    "\\frac{\\partial y_1}{\\partial x_1} & \\frac{\\partial y_1}{\\partial x_2} & \\cdots & \\frac{\\partial y_1}{\\partial x_n} \\\\\n",
    "\\frac{\\partial y_2}{\\partial x_1} & \\frac{\\partial y_2}{\\partial x_2} & \\cdots & \\frac{\\partial y_2}{\\partial x_n} \\\\\n",
    "\\vdots & \\vdots & \\ddots & \\vdots \\\\\n",
    "\\frac{\\partial y_m}{\\partial x_1} & \\frac{\\partial y_m}{\\partial x_2} & \\cdots & \\frac{\\partial y_m}{\\partial x_n}\n",
    "\\end{array}\n",
    "\\right)\n",
    "\\end{align*}\n",
    "$$\n",
    "如果$\\mathbf{y}$是标量，那么就只有一行$\\left(\\frac{\\partial y}{\\partial x_1}, \\frac{\\partial y}{\\partial x_2}, \\cdots, \\frac{\\partial y}{\\partial x_n}\\right)$。\n",
    "\n",
    "接下来考虑复合函数，基于链式法则，可以得到：\n",
    "$$\n",
    "\\begin{align*}\n",
    "\\frac{\\partial \\mathbf{y}}{\\partial \\mathbf{x}} = \\frac{\\partial \\mathbf{y}}{\\partial \\mathbf{a}} \\frac{\\partial \\mathbf{a}}{\\partial \\mathbf{b}} \\frac{\\partial \\mathbf{b}}{\\partial \\mathbf{x}}\n",
    "\\end{align*}\n",
    "$$\n",
    "计算通过矩阵乘法实现。\n"
   ]
  }
 ],
 "metadata": {
  "kernelspec": {
   "display_name": "dl_torch",
   "language": "python",
   "name": "python3"
  },
  "language_info": {
   "codemirror_mode": {
    "name": "ipython",
    "version": 3
   },
   "file_extension": ".py",
   "mimetype": "text/x-python",
   "name": "python",
   "nbconvert_exporter": "python",
   "pygments_lexer": "ipython3",
   "version": "3.7.4"
  }
 },
 "nbformat": 4,
 "nbformat_minor": 2
}
