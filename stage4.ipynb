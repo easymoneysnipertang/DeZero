{
 "cells": [
  {
   "cell_type": "markdown",
   "metadata": {},
   "source": [
    "# Stage 4: Creating neural networks\n",
    "\n",
    "前面我们主要处理的变量是标量，但在机器学习领域，张量(多维数组)扮演着重要的角色。  \n",
    "这一阶段的目标是将 DeZero 扩展到机器学习，尤其是神经网络领域。"
   ]
  },
  {
   "cell_type": "code",
   "execution_count": 4,
   "metadata": {},
   "outputs": [],
   "source": [
    "import numpy as np\n",
    "import dezero.functions as F\n",
    "import dezero.layers as L\n",
    "from dezero.models import MLP\n",
    "from dezero import optimizers\n",
    "from dezero import Variable, Parameter, Layer, Model\n",
    "import matplotlib.pyplot as plt"
   ]
  },
  {
   "cell_type": "markdown",
   "metadata": {},
   "source": [
    "## Step 37: Processing tensors"
   ]
  },
  {
   "cell_type": "markdown",
   "metadata": {},
   "source": [
    "前面，我们处理的变量主要是标量。本步骤将将讨论使用张量时需要注意的地方，并为扩展DeZero做准备。"
   ]
  },
  {
   "cell_type": "code",
   "execution_count": 2,
   "metadata": {},
   "outputs": [
    {
     "name": "stdout",
     "output_type": "stream",
     "text": [
      "variable(0.8414709848078965)\n"
     ]
    }
   ],
   "source": [
    "x = Variable(np.array(1.0))\n",
    "y = F.sin(x)\n",
    "print(y)"
   ]
  },
  {
   "cell_type": "code",
   "execution_count": 3,
   "metadata": {},
   "outputs": [
    {
     "name": "stdout",
     "output_type": "stream",
     "text": [
      "variable([[ 0.84147098  0.90929743  0.14112001]\n",
      "          [-0.7568025  -0.95892427 -0.2794155 ]])\n",
      "variable([[11 22 33]\n",
      "          [44 55 66]])\n"
     ]
    }
   ],
   "source": [
    "# 会对多维数组进行逐元素运算，不改变形状\n",
    "x = Variable(np.array([[1, 2, 3], [4, 5, 6]]))\n",
    "y = F.sin(x)\n",
    "print(y)\n",
    "# 逐元素相加\n",
    "x = Variable(np.array([[1, 2, 3], [4, 5, 6]]))\n",
    "c = Variable(np.array([[10, 20, 30], [40, 50, 60]]))\n",
    "y = x + c\n",
    "print(y)"
   ]
  },
  {
   "cell_type": "markdown",
   "metadata": {},
   "source": [
    "在使用当前己实现函数的情况下，即使对张量进行计算，反向传播的代码也能\n",
    "正常工作：\n",
    "1. 以标量为对象实现了反向传播\n",
    "2. 向目前实现的 DeZero 函数传入张量，函数会将每个张量的元素作为标量进行计算\n",
    "3. 如果将张量的每个元素作为标量进行计算，那么以标量为前提实现的\n",
    "反向传播也会对张量的每个元素进行计算"
   ]
  },
  {
   "cell_type": "markdown",
   "metadata": {},
   "source": [
    "$\\mathbf{y} = F(\\mathbf{x})$向量求导（雅可比矩阵）：\n",
    "$$\n",
    "\\begin{align*}\n",
    "\\frac{\\partial \\mathbf{y}}{\\partial \\mathbf{x}} = \\left(\n",
    "\\begin{array}{ccc}\n",
    "\\frac{\\partial y_1}{\\partial x_1} & \\frac{\\partial y_1}{\\partial x_2} & \\cdots & \\frac{\\partial y_1}{\\partial x_n} \\\\\n",
    "\\frac{\\partial y_2}{\\partial x_1} & \\frac{\\partial y_2}{\\partial x_2} & \\cdots & \\frac{\\partial y_2}{\\partial x_n} \\\\\n",
    "\\vdots & \\vdots & \\ddots & \\vdots \\\\\n",
    "\\frac{\\partial y_m}{\\partial x_1} & \\frac{\\partial y_m}{\\partial x_2} & \\cdots & \\frac{\\partial y_m}{\\partial x_n}\n",
    "\\end{array}\n",
    "\\right)\n",
    "\\end{align*}\n",
    "$$\n",
    "如果$\\mathbf{y}$是标量，那么就只有一行$\\left(\\frac{\\partial y}{\\partial x_1}, \\frac{\\partial y}{\\partial x_2}, \\cdots, \\frac{\\partial y}{\\partial x_n}\\right)$。\n",
    "\n",
    "接下来考虑复合函数，基于链式法则，可以得到：\n",
    "$$\n",
    "\\begin{align*}\n",
    "\\frac{\\partial \\mathbf{y}}{\\partial \\mathbf{x}} = \\frac{\\partial \\mathbf{y}}{\\partial \\mathbf{a}} \\frac{\\partial \\mathbf{a}}{\\partial \\mathbf{b}} \\frac{\\partial \\mathbf{b}}{\\partial \\mathbf{x}}\n",
    "\\end{align*}\n",
    "$$\n",
    "计算通过矩阵乘法实现。\n"
   ]
  },
  {
   "cell_type": "markdown",
   "metadata": {},
   "source": [
    "## Step 38: Function for changing shape"
   ]
  },
  {
   "cell_type": "markdown",
   "metadata": {},
   "source": [
    "现在要看不逐元素进行运算的函数-reshape、transpose等。\n",
    "\n",
    "reshape函数只是对形状进行变换，不进行具体的计算。因此在反向传播时，只需将梯度转换为原始形状传递给上游即可。\n"
   ]
  },
  {
   "cell_type": "code",
   "execution_count": 4,
   "metadata": {},
   "outputs": [
    {
     "name": "stdout",
     "output_type": "stream",
     "text": [
      "variable([1 1 1 1 1 1])\n",
      "variable([[1 1 1]\n",
      "          [1 1 1]])\n"
     ]
    }
   ],
   "source": [
    "x = Variable(np.array([[1, 2, 3], [4, 5, 6]]))\n",
    "y = F.reshape(x, (6,))\n",
    "y.backward(retain_grad=True)\n",
    "print(y.grad)\n",
    "print(x.grad)"
   ]
  },
  {
   "cell_type": "markdown",
   "metadata": {},
   "source": [
    "numpy的ndarray实例可以直接使用reshape方法，为了让函数更易用，在Variable类中实现reshape方法。"
   ]
  },
  {
   "cell_type": "code",
   "execution_count": 5,
   "metadata": {},
   "outputs": [
    {
     "name": "stdout",
     "output_type": "stream",
     "text": [
      "variable([[[ 0.54588897 -2.78006925  0.77728769]\n",
      "           [-0.36688867  1.07029414  1.67058631]]])\n",
      "variable([[ 0.54588897 -2.78006925  0.77728769]\n",
      "          [-0.36688867  1.07029414  1.67058631]])\n",
      "variable([[ 0.54588897 -2.78006925  0.77728769]\n",
      "          [-0.36688867  1.07029414  1.67058631]])\n"
     ]
    }
   ],
   "source": [
    "x = Variable(np.random.randn(1,2,3))\n",
    "print(x)\n",
    "y = x.reshape((2,3))\n",
    "print(y)\n",
    "y = x.reshape(2,3)\n",
    "print(y)"
   ]
  },
  {
   "cell_type": "markdown",
   "metadata": {},
   "source": [
    "transpose转置函数与reshape函数实现方式类似，只需将形状变换即可。"
   ]
  },
  {
   "cell_type": "code",
   "execution_count": 6,
   "metadata": {},
   "outputs": [
    {
     "name": "stdout",
     "output_type": "stream",
     "text": [
      "variable([[1 4]\n",
      "          [2 5]\n",
      "          [3 6]])\n",
      "variable([[1 4]\n",
      "          [2 5]\n",
      "          [3 6]])\n",
      "variable([[1 1]\n",
      "          [1 1]\n",
      "          [1 1]])\n",
      "variable([[1 1 1]\n",
      "          [1 1 1]])\n"
     ]
    }
   ],
   "source": [
    "x = Variable(np.array([[1, 2, 3], [4, 5, 6]]))\n",
    "y = x.transpose()\n",
    "print(y)\n",
    "y = x.T\n",
    "print(y)\n",
    "y.backward(retain_grad=True)\n",
    "print(y.grad)\n",
    "print(x.grad)"
   ]
  },
  {
   "cell_type": "markdown",
   "metadata": {},
   "source": [
    "## Step 39: Funciton for summing elements"
   ]
  },
  {
   "cell_type": "markdown",
   "metadata": {},
   "source": [
    "之前实现的加法函数反向传播时，将梯度直接传递给两个输入变量。\n",
    "\n",
    "现在实现的函数对张量的元素进行求和也同理，反向传播时，将梯度传递给所有元素，即按向量元素数量复制梯度。\n",
    "\n",
    "而复制操作也是操作Variable类的方法，需要实现broadcast_to方法。\n",
    "\n",
    "另外np的sum函数可以指定axis参数，实现对指定轴求和，这里也要实现这个功能。"
   ]
  },
  {
   "cell_type": "code",
   "execution_count": 7,
   "metadata": {},
   "outputs": [
    {
     "name": "stdout",
     "output_type": "stream",
     "text": [
      "variable(21)\n",
      "variable([[1 1 1]\n",
      "          [1 1 1]])\n",
      "variable([5 7 9])\n",
      "variable([[1 1 1]\n",
      "          [1 1 1]])\n",
      "(1, 1, 1, 1)\n"
     ]
    }
   ],
   "source": [
    "x = Variable(np.array([[1, 2, 3], [4, 5, 6]]))\n",
    "y = F.sum(x)\n",
    "y.backward()\n",
    "print(y)\n",
    "print(x.grad)\n",
    "\n",
    "x.cleargrad()\n",
    "y = x.sum(axis=0)\n",
    "y.backward()\n",
    "print(y)\n",
    "print(x.grad)\n",
    "\n",
    "x = Variable(np.random.randn(2,3,4,5))\n",
    "y = x.sum(keepdims=True)\n",
    "print(y.shape)"
   ]
  },
  {
   "cell_type": "markdown",
   "metadata": {},
   "source": [
    "## Step 40: Function for broadcasting"
   ]
  },
  {
   "cell_type": "markdown",
   "metadata": {},
   "source": [
    "y = x + x可以理解为复制x后再相加，在反向传播时，需要将梯度累加到x上。\n",
    "\n",
    "广播操作也是类似原理，在反向传播时，需要将梯度累加到原始形状上。\n",
    "\n",
    "这里需要使用sum_to函数，进行求和并将形状变换回去。\n",
    "\n",
    "而sum_to函数的反向传播实现是将梯度复制到原始形状上，则使用broadcast_to函数。"
   ]
  },
  {
   "cell_type": "markdown",
   "metadata": {},
   "source": [
    "另外，np中的广播操作往往是幕后进行的，所以需要拓展原来的四则运算函数，使其支持广播操作。"
   ]
  },
  {
   "cell_type": "code",
   "execution_count": 8,
   "metadata": {},
   "outputs": [
    {
     "name": "stdout",
     "output_type": "stream",
     "text": [
      "variable([11 12 13])\n",
      "variable([10])\n",
      "variable([3])\n"
     ]
    }
   ],
   "source": [
    "x0 = Variable(np.array([1, 2, 3]))\n",
    "x1 = Variable(np.array([10]))\n",
    "y = x0 + x1\n",
    "print(y)\n",
    "\n",
    "y.backward()\n",
    "print(x1)\n",
    "print(x1.grad)"
   ]
  },
  {
   "cell_type": "markdown",
   "metadata": {},
   "source": [
    "## Step 41: Product of matrices"
   ]
  },
  {
   "cell_type": "markdown",
   "metadata": {},
   "source": [
    "向量内积：\n",
    "$$\n",
    "\\begin{align*}\n",
    "\\mathbf{y} = \\mathbf{a} \\cdot \\mathbf{b} = \\sum_{i=1}^{n} a_i b_i\n",
    "\\end{align*}\n",
    "$$\n",
    "矩阵乘法：\n",
    "$$\n",
    "\\begin{align*}\n",
    "\\mathbf{Y} = \\mathbf{A} \\mathbf{B} = \\left(\n",
    "\\begin{array}{ccc}\n",
    "\\sum_{i=1}^{n} a_{1i} b_{i1} & \\sum_{i=1}^{n} a_{1i} b_{i2} & \\cdots & \\sum_{i=1}^{n} a_{1i} b_{im} \\\\\n",
    "\\sum_{i=1}^{n} a_{2i} b_{i1} & \\sum_{i=1}^{n} a_{2i} b_{i2} & \\cdots & \\sum_{i=1}^{n} a_{2i} b_{im} \\\\\n",
    "\\vdots & \\vdots & \\ddots & \\vdots \\\\\n",
    "\\sum_{i=1}^{n} a_{mi} b_{i1} & \\sum_{i=1}^{n} a_{mi} b_{i2} & \\cdots & \\sum_{i=1}^{n} a_{mi} b_{im}\n",
    "\\end{array}\n",
    "\\right)\n",
    "\\end{align*}\n",
    "$$\n",
    "\n",
    "都使用np.dot函数实现，如果两个参数都是一维数组，则是向量内积；如果两个参数都是二维数组，则是矩阵乘法。"
   ]
  },
  {
   "cell_type": "markdown",
   "metadata": {},
   "source": [
    "<center>\n",
    "<table>\n",
    "  <tr>\n",
    "    <td><img src=\"./res/matmul_easy.png\" width=\"400\"/></td>\n",
    "  </tr>\n",
    "</table>\n",
    "</center>\n",
    "\n",
    "对于反向传播，首先考虑简单情况 $y = xW$，其中x为1×D的向量，W为D×H的矩阵，y为1×H的向量。\n",
    "$$\n",
    "\\begin{align*}\n",
    "\\frac{\\partial L}{\\partial x_i} = \\sum_{j=1}^{H} \\frac{\\partial L}{\\partial y_j} \\frac{\\partial y_j}{\\partial x_i} = \\sum_{j=1}^{H} \\frac{\\partial L}{\\partial y_j} W_{ij}\n",
    "\\end{align*}\n",
    "$$\n",
    "其中，$W_{ij}$表示W的第i行第j列元素。\n",
    "\n",
    "当$x_i$发生变化时，向量$y$的所有元素都会发生变化。$y$的每个元素改变也会使$L$发生变化，因此从$x_i$到$L$有多条链式法则的路径。\n",
    "\n",
    "由前可知，$\\frac{\\partial L}{\\partial x_i}$可通过向量$\\frac{\\partial L}{\\partial y}$和矩阵$W$的第i行向量的内积得到，因此可以推广得到：\n",
    "$$\n",
    "\\begin{align*}\n",
    "\\frac{\\partial L}{\\partial \\mathbf{x}} = \\frac{\\partial L}{\\partial \\mathbf{y}} \\mathbf{W}^T\n",
    "\\end{align*}\n",
    "$$\n",
    "\n",
    "<center>\n",
    "<table>\n",
    "  <tr>\n",
    "    <td><img src=\"./res/matmul_complex.png\" width=\"400\"/></td>\n",
    "    <td><img src=\"./res/matmul_grad.png\" width=\"350\"/></td>\n",
    "  </tr>\n",
    "</table>\n",
    "</center>"
   ]
  },
  {
   "cell_type": "code",
   "execution_count": 9,
   "metadata": {},
   "outputs": [
    {
     "name": "stdout",
     "output_type": "stream",
     "text": [
      "variable([[-0.2487467  -1.44102086 -0.28509845]\n",
      "          [-0.70020766  0.08812714  0.66851264]])\n",
      "(2, 3)\n",
      "variable([[-1.41666175  0.0965658  -0.30104066 -0.00517611]\n",
      "          [-1.22254369 -1.07932289 -0.70114615 -0.5960443 ]\n",
      "          [ 0.59996157 -0.59074943  0.0973289  -0.79947596]])\n",
      "(3, 4)\n"
     ]
    }
   ],
   "source": [
    "x = Variable(np.random.randn(2,3))\n",
    "W = Variable(np.random.randn(3,4))\n",
    "y = F.matmul(x, W)\n",
    "y.backward()\n",
    "\n",
    "print(x)\n",
    "print(x.grad.shape)\n",
    "print(W)\n",
    "print(W.grad.shape)"
   ]
  },
  {
   "cell_type": "markdown",
   "metadata": {},
   "source": [
    "## Step 42: Linear regression"
   ]
  },
  {
   "cell_type": "markdown",
   "metadata": {},
   "source": [
    "机器学习的本质就是从数据中寻找解决方案。\n",
    "\n",
    "线性回归的目标是找到一条拟合数据的直线$y = Wx + b$，使以下损失函数最小：\n",
    "$$\n",
    "\\begin{align*}\n",
    "L = \\frac{1}{N} \\sum_{i=1}^{N} (y_i - (Wx_i + b))^2\n",
    "\\end{align*}\n",
    "$$"
   ]
  },
  {
   "cell_type": "code",
   "execution_count": 10,
   "metadata": {},
   "outputs": [],
   "source": [
    "# toy dataset\n",
    "np.random.seed(0)\n",
    "x = np.random.rand(100, 1)\n",
    "y = 5 + 2 * x + np.random.rand(100, 1)"
   ]
  },
  {
   "cell_type": "code",
   "execution_count": 11,
   "metadata": {},
   "outputs": [],
   "source": [
    "x, y = Variable(x), Variable(y)\n",
    "W = Variable(np.zeros((1, 1))) # (100,1) * (1,1) = (100,1)\n",
    "b = Variable(np.zeros(1))\n",
    "\n",
    "def predict(x):\n",
    "    y = F.matmul(x, W) + b\n",
    "    return y"
   ]
  },
  {
   "cell_type": "code",
   "execution_count": 12,
   "metadata": {},
   "outputs": [
    {
     "name": "stdout",
     "output_type": "stream",
     "text": [
      "variable([[0.64433458]]) variable([1.29473389]) variable(42.296340129442335)\n",
      "variable([[2.425382]]) variable([5.02561369]) variable(0.24915731977561134)\n",
      "variable([[2.45731071]]) variable([5.27768752]) variable(0.10078974954301652)\n",
      "variable([[2.39696452]]) variable([5.3238]) variable(0.09461859803040694)\n",
      "variable([[2.33913091]]) variable([5.35400772]) variable(0.0902667138137311)\n",
      "variable([[2.28830557]]) variable([5.37981674]) variable(0.08694585483964615)\n",
      "variable([[2.24388206]]) variable([5.40233244]) variable(0.08441084206493275)\n",
      "variable([[2.20506799]]) variable([5.42200258]) variable(0.08247571022229121)\n",
      "variable([[2.17115586]]) variable([5.43918838]) variable(0.08099850454041051)\n",
      "variable([[2.14152662]]) variable([5.45420371]) variable(0.07987086218625004)\n"
     ]
    }
   ],
   "source": [
    "def mean_squared_error(x0, x1):  # 会引入中间变量，封装成function内存更优\n",
    "    diff = x0 - x1\n",
    "    return F.sum(diff ** 2) / len(diff)\n",
    "\n",
    "lr = 0.1\n",
    "iters = 100\n",
    "\n",
    "for i in range(iters):\n",
    "    y_pred = predict(x)\n",
    "    loss = mean_squared_error(y, y_pred)\n",
    "\n",
    "    W.cleargrad()\n",
    "    b.cleargrad()\n",
    "    loss.backward()\n",
    "\n",
    "    # Update .data attribute (No need grads when updating params)\n",
    "    W.data -= lr * W.grad.data\n",
    "    b.data -= lr * b.grad.data\n",
    "    if i % 10 == 0:\n",
    "        print(W, b, loss)"
   ]
  },
  {
   "cell_type": "code",
   "execution_count": 13,
   "metadata": {},
   "outputs": [
    {
     "data": {
      "image/png": "[encoded data removed]",
      "text/plain": [
       "<Figure size 640x480 with 1 Axes>"
      ]
     },
     "metadata": {},
     "output_type": "display_data"
    }
   ],
   "source": [
    "# Plot\n",
    "plt.scatter(x.data, y.data, s=10)\n",
    "plt.xlabel('x')\n",
    "plt.ylabel('y')\n",
    "y_pred = predict(x)\n",
    "plt.plot(x.data, y_pred.data, color='r')\n",
    "plt.show()"
   ]
  },
  {
   "cell_type": "markdown",
   "metadata": {},
   "source": [
    "## Step 43: Neural networks"
   ]
  },
  {
   "cell_type": "markdown",
   "metadata": {},
   "source": [
    "前面实现了线性变化，实现中使用了matmul和add函数。会出现一个问题，在计算图存在期间，Variable实例的数据会一直保持在内存中，这会导致内存占用过大。\n",
    "\n",
    "如果将其封装为一个Linear类，中间结果**没有作为Variable实例存储**，数据在正向传播结束后就会被释放。\n",
    "<center>\n",
    "<table>\n",
    "  <tr>\n",
    "    <td><img src=\"./res/linear.png\" width=\"400\"/></td>\n",
    "  </tr>\n",
    "</table>\n",
    "</center>\n",
    "\n",
    "如左上图，+的反向传播仅仅传播输出端的梯度。也就是说，+的反向传播小不需要t的数据。另外，matmul的反向传播只需要输入变量x、W和b，也不需要t的数据。\n",
    "\n",
    "当然可以通过手动删除中间结果的方式来减少内存占用，但这样会增加代码的复杂度。通过定义Linear类在反向传播时执行+和matmul的反向传播，更加方便。\n"
   ]
  },
  {
   "cell_type": "code",
   "execution_count": 14,
   "metadata": {},
   "outputs": [],
   "source": [
    "def linear_simple(x, W, b=None):\n",
    "    t = F.matmul(x, W)\n",
    "    if b is None:\n",
    "        return t\n",
    "    y = t + b\n",
    "    t.data = None  # Release t.data (ndarray) for memory efficiency\n",
    "    return y"
   ]
  },
  {
   "cell_type": "markdown",
   "metadata": {},
   "source": [
    "下面创建一个非线性数据集，此时不能再用线性回归来处理，需要使用神经网络。\n",
    "\n",
    "神经网络对线性变化的输出进行非线性变换(激活函数)，典型的激活函数有ReLU、Sigmoid、Tanh等。"
   ]
  },
  {
   "cell_type": "code",
   "execution_count": 15,
   "metadata": {},
   "outputs": [],
   "source": [
    "# 非线性数据集\n",
    "np.random.seed(0)\n",
    "x = np.random.rand(100, 1)\n",
    "y = np.sin(2 * np.pi * x) + np.random.rand(100, 1)"
   ]
  },
  {
   "cell_type": "code",
   "execution_count": 16,
   "metadata": {},
   "outputs": [],
   "source": [
    "def sigmoid_simple(x):\n",
    "    x = F.as_variable(x)\n",
    "    y = 1 / (1 + F.exp(-x))\n",
    "    return y"
   ]
  },
  {
   "cell_type": "code",
   "execution_count": 17,
   "metadata": {},
   "outputs": [
    {
     "name": "stdout",
     "output_type": "stream",
     "text": [
      "variable(0.8473695850105871)\n",
      "variable(0.2514286285183606)\n",
      "variable(0.2475948546674987)\n",
      "variable(0.23786120447054812)\n",
      "variable(0.21222231333102917)\n",
      "variable(0.1674218111783416)\n",
      "variable(0.09681932619992674)\n",
      "variable(0.0784952829060233)\n",
      "variable(0.07749729552991148)\n",
      "variable(0.07722132399559316)\n"
     ]
    }
   ],
   "source": [
    "# 权重初始化\n",
    "I, H, O = 1, 10, 1\n",
    "W1 = Variable(0.01 * np.random.randn(I, H))\n",
    "b1 = Variable(np.zeros(H))\n",
    "W2 = Variable(0.01 * np.random.randn(H, O))\n",
    "b2 = Variable(np.zeros(O))\n",
    "\n",
    "# 神经网络\n",
    "def predict_simple(x):\n",
    "    y = linear_simple(x, W1, b1)\n",
    "    y = sigmoid_simple(y)\n",
    "    y = linear_simple(y, W2, b2)\n",
    "    return y\n",
    "\n",
    "def predict(x):\n",
    "    y = F.linear(x, W1, b1)\n",
    "    y = F.sigmoid(y)\n",
    "    y = F.linear(y, W2, b2)\n",
    "    return y\n",
    "\n",
    "lr = 0.2\n",
    "iters = 10000\n",
    "\n",
    "for i in range(iters):\n",
    "    y_pred = predict(x)\n",
    "    loss = F.mean_squared_error(y, y_pred)\n",
    "\n",
    "    W1.cleargrad()\n",
    "    b1.cleargrad()\n",
    "    W2.cleargrad()\n",
    "    b2.cleargrad()\n",
    "    loss.backward()\n",
    "\n",
    "    W1.data -= lr * W1.grad.data\n",
    "    b1.data -= lr * b1.grad.data\n",
    "    W2.data -= lr * W2.grad.data\n",
    "    b2.data -= lr * b2.grad.data\n",
    "    if i % 1000 == 0:\n",
    "        print(loss)"
   ]
  },
  {
   "cell_type": "code",
   "execution_count": 18,
   "metadata": {},
   "outputs": [
    {
     "data": {
      "image/png": "[encoded data removed]",
      "text/plain": [
       "<Figure size 640x480 with 1 Axes>"
      ]
     },
     "metadata": {},
     "output_type": "display_data"
    }
   ],
   "source": [
    "# Plot\n",
    "plt.scatter(x, y, s=10)\n",
    "plt.xlabel('x')\n",
    "plt.ylabel('y')\n",
    "t = np.arange(0, 1, .01)[:, np.newaxis]\n",
    "y_pred = predict(t)\n",
    "plt.plot(t, y_pred.data, color='r')\n",
    "plt.show()"
   ]
  },
  {
   "cell_type": "markdown",
   "metadata": {},
   "source": [
    "## Step 44: Layer of summary parameters"
   ]
  },
  {
   "cell_type": "markdown",
   "metadata": {},
   "source": [
    "前面实现神经网络时，对参数的处理（更新梯度）非常枯燥、麻烦，本步骤创建汇总参数的机制。\n",
    "\n",
    "Parameter类直接继承Variable类，可以用isinstance函数对他们进行区分进而只收集Parameter实例。"
   ]
  },
  {
   "cell_type": "code",
   "execution_count": 3,
   "metadata": {},
   "outputs": [
    {
     "name": "stdout",
     "output_type": "stream",
     "text": [
      "True\n",
      "True\n",
      "False\n",
      "False\n"
     ]
    }
   ],
   "source": [
    "x = Variable(np.array(1.0))\n",
    "p = Parameter(np.array(2.0))\n",
    "y = x * p\n",
    "\n",
    "print(isinstance(p, Variable))\n",
    "print(isinstance(p, Parameter))\n",
    "print(isinstance(x, Parameter))\n",
    "print(isinstance(y, Parameter))"
   ]
  },
  {
   "cell_type": "markdown",
   "metadata": {},
   "source": [
    "Layer类与Function类相似，都是变化变量的类，但Layer类是持有参数并使用这些参数进行变换的类。\n",
    "\n",
    "通过__setattr__方法，可以将Parameter实例注册到Layer实例的params属性中。"
   ]
  },
  {
   "cell_type": "code",
   "execution_count": 3,
   "metadata": {},
   "outputs": [
    {
     "name": "stdout",
     "output_type": "stream",
     "text": [
      "{'p2', 'p1'}\n",
      "----------------\n",
      "p2 variable(2)\n",
      "p1 variable(1)\n"
     ]
    }
   ],
   "source": [
    "layer = Layer()\n",
    "\n",
    "layer.p1 = Parameter(np.array(1))\n",
    "layer.p2 = Parameter(np.array(2))\n",
    "layer.p3 = Variable(np.array(3))\n",
    "layer.p4 = 'test'\n",
    "\n",
    "print(layer._params)  # 打印参数的名称\n",
    "print(\"----------------\")\n",
    "\n",
    "for name in layer._params:  # 通过dict的方式访问参数\n",
    "    print(name, layer.__dict__[name])"
   ]
  },
  {
   "cell_type": "markdown",
   "metadata": {},
   "source": [
    "给Layer类实现__call__方法、forward方法，接下来就可以继承Layer类实现神经网络的层。\n",
    "\n",
    "Linear类实现过程有个细节，可以不设置input_size，而是在forward方法中根据输入数据的形状自动设置input_size。\n",
    "\n",
    "有了Layer类后，清空梯度和更新参数的操作就变得更加清晰。"
   ]
  },
  {
   "cell_type": "code",
   "execution_count": 5,
   "metadata": {},
   "outputs": [
    {
     "name": "stdout",
     "output_type": "stream",
     "text": [
      "variable(0.8165178492839196)\n",
      "variable(0.24990280802148895)\n",
      "variable(0.24609876581126014)\n",
      "variable(0.2372159081431807)\n",
      "variable(0.20793216413350177)\n",
      "variable(0.12311905720649349)\n",
      "variable(0.07888166506355149)\n",
      "variable(0.07655073683421633)\n",
      "variable(0.07637803086238223)\n",
      "variable(0.07618764131185574)\n"
     ]
    }
   ],
   "source": [
    "# 数据集\n",
    "np.random.seed(0)\n",
    "x = np.random.rand(100, 1)\n",
    "y = np.sin(2 * np.pi * x) + np.random.rand(100, 1)\n",
    "\n",
    "layer1 = L.Linear(10)  # 只指定输出大小\n",
    "layer2 = L.Linear(1)\n",
    "\n",
    "def predict(x):\n",
    "    y = layer1(x)\n",
    "    y = F.sigmoid(y)\n",
    "    y = layer2(y)\n",
    "    return y\n",
    "\n",
    "lr = 0.2\n",
    "iters = 10000\n",
    "\n",
    "for i in range(iters):\n",
    "    y_pred = predict(x)\n",
    "    loss = F.mean_squared_error(y, y_pred)\n",
    "\n",
    "    layer1.cleargrads()  # 清空梯度\n",
    "    layer2.cleargrads()\n",
    "    loss.backward()\n",
    "\n",
    "    for l in [layer1, layer2]:  # 更新参数\n",
    "        for p in l.params():\n",
    "            p.data -= lr * p.grad.data\n",
    "\n",
    "    if i % 1000 == 0:\n",
    "        print(loss)"
   ]
  },
  {
   "cell_type": "code",
   "execution_count": 6,
   "metadata": {},
   "outputs": [
    {
     "data": {
      "image/png": "[encoded data removed]",
      "text/plain": [
       "<Figure size 640x480 with 1 Axes>"
      ]
     },
     "metadata": {},
     "output_type": "display_data"
    }
   ],
   "source": [
    "plt.scatter(x, y, s=10)\n",
    "plt.xlabel('x')\n",
    "plt.ylabel('y')\n",
    "t = np.arange(0, 1, .01)[:, np.newaxis]\n",
    "y_pred = predict(t)\n",
    "plt.plot(t, y_pred.data, color='r')\n",
    "plt.show()"
   ]
  },
  {
   "cell_type": "markdown",
   "metadata": {},
   "source": [
    "## Step 45: Layer of summary layers"
   ]
  },
  {
   "cell_type": "markdown",
   "metadata": {},
   "source": [
    "前面创建了Layer类来管理参数，但Layer实例本身也需要进行管理，若前一步代码有10个Linear实例，管理起来就会很麻烦。\n",
    "\n",
    "当前Layer类可以持有多个Parameter，拓展Layer类，使其可以持有其他的Layer。\n",
    "<center>\n",
    "<img src=\"./res/layers.png\" width=\"500\"/>\n",
    "</center>\n",
    "\n",
    "Layer类变为一个嵌套结构，我们希望在最上层的Layer中取出所有的参数。\n",
    "\n",
    "主要是在设置实例变量时，将Layer实例的名称也添加到_params中；在取出参数时，递归遍历所有的Layer实例，将参数取出。"
   ]
  },
  {
   "cell_type": "code",
   "execution_count": 2,
   "metadata": {},
   "outputs": [
    {
     "name": "stdout",
     "output_type": "stream",
     "text": [
      "variable([0.])\n",
      "variable(None)\n",
      "variable([0. 0. 0. 0. 0. 0. 0. 0. 0. 0.])\n",
      "variable(None)\n"
     ]
    }
   ],
   "source": [
    "model = Layer()\n",
    "model.l1 = L.Linear(10)\n",
    "model.l2 = L.Linear(1)\n",
    "\n",
    "# 进行推理\n",
    "def predict(model, x):\n",
    "    y = model.l1(x)\n",
    "    y = F.sigmoid(y)\n",
    "    y = model.l2(y)\n",
    "    return y\n",
    "\n",
    "# 访问参数\n",
    "for p in model.params():\n",
    "    print(p)\n",
    "\n",
    "# 清空梯度\n",
    "model.cleargrads()"
   ]
  },
  {
   "cell_type": "markdown",
   "metadata": {},
   "source": [
    "为了更好地抽象描述系统，有必要引入Model类，Model类是Layer的子类，显式管理Layer实例。\n",
    "\n",
    "为Model类增加了可视化功能，可以将Model实例的结构以图的形式显示出来。"
   ]
  },
  {
   "cell_type": "code",
   "execution_count": 2,
   "metadata": {},
   "outputs": [],
   "source": [
    "class TwoLayerNet(Model):\n",
    "    def __init__(self, hidden_size, out_size):\n",
    "        super().__init__()\n",
    "        self.l1 = L.Linear(hidden_size)\n",
    "        self.l2 = L.Linear(out_size)\n",
    "\n",
    "    def forward(self, x):\n",
    "        y = F.sigmoid(self.l1(x))\n",
    "        y = self.l2(y)\n",
    "        return y\n",
    "    \n",
    "model = TwoLayerNet(100, 10)\n",
    "x = Variable(np.random.randn(5, 100), name='x')\n",
    "model.plot(x)"
   ]
  },
  {
   "cell_type": "code",
   "execution_count": 3,
   "metadata": {},
   "outputs": [
    {
     "name": "stdout",
     "output_type": "stream",
     "text": [
      "variable(0.8165178492839196)\n",
      "variable(0.24990280802148895)\n",
      "variable(0.24609876581126014)\n",
      "variable(0.2372159081431807)\n",
      "variable(0.20793216413350177)\n",
      "variable(0.12311905720649349)\n",
      "variable(0.07888166506355149)\n",
      "variable(0.07655073683421633)\n",
      "variable(0.07637803086238223)\n",
      "variable(0.07618764131185574)\n"
     ]
    }
   ],
   "source": [
    "# 下面使用Model类训练Sin数据集，代码将简洁很多\n",
    "# 数据集\n",
    "np.random.seed(0)\n",
    "x = np.random.rand(100, 1)\n",
    "y = np.sin(2 * np.pi * x) + np.random.rand(100, 1)\n",
    "\n",
    "# 超参数\n",
    "lr = 0.2\n",
    "max_iter = 10000\n",
    "hidden_size = 10\n",
    "\n",
    "#model = TwoLayerNet(hidden_size, 1)\n",
    "# MLP，封装好的更简洁的TwoLayerNet\n",
    "model = MLP((10, 1))\n",
    "\n",
    "for i in range(max_iter):\n",
    "    y_pred = model(x)\n",
    "    loss = F.mean_squared_error(y, y_pred)\n",
    "\n",
    "    model.cleargrads()  # 最上层清空梯度\n",
    "    loss.backward()\n",
    "\n",
    "    for p in model.params():  # 更新参数\n",
    "        p.data -= lr * p.grad.data\n",
    "\n",
    "    if i % 1000 == 0:\n",
    "        print(loss)"
   ]
  },
  {
   "cell_type": "markdown",
   "metadata": {},
   "source": [
    "## Step 46: Update parameters using the Optimizer"
   ]
  },
  {
   "cell_type": "markdown",
   "metadata": {},
   "source": [
    "除了梯度下降法，还有很多优化方法，将参数更新的工作模块化，创建一个能够轻松切换优化方法的机制。\n",
    "\n",
    "基类Optimizer类中定义了update方法，汇总所有参数后调用update_one方法。update_one方法是抽象方法，在子类中实现。"
   ]
  },
  {
   "cell_type": "code",
   "execution_count": 5,
   "metadata": {},
   "outputs": [
    {
     "name": "stdout",
     "output_type": "stream",
     "text": [
      "variable(0.8165178492839196)\n",
      "variable(0.24990280802148895)\n",
      "variable(0.24609876581126014)\n",
      "variable(0.2372159081431807)\n",
      "variable(0.20793216413350177)\n",
      "variable(0.12311905720649349)\n",
      "variable(0.07888166506355149)\n",
      "variable(0.07655073683421633)\n",
      "variable(0.07637803086238223)\n",
      "variable(0.07618764131185574)\n"
     ]
    }
   ],
   "source": [
    "# 数据集\n",
    "np.random.seed(0)\n",
    "x = np.random.rand(100, 1)\n",
    "y = np.sin(2 * np.pi * x) + np.random.rand(100, 1)\n",
    "\n",
    "# 超参数\n",
    "lr = 0.2\n",
    "max_iter = 10000\n",
    "hidden_size = 10\n",
    "\n",
    "model = MLP((hidden_size, 1))\n",
    "optimizer = optimizers.SGD(lr)\n",
    "optimizer.setup(model)  # 传入model，自动获取所有参数\n",
    "\n",
    "for i in range(max_iter):\n",
    "    y_pred = model(x)\n",
    "    loss = F.mean_squared_error(y, y_pred)\n",
    "\n",
    "    model.cleargrads()  # 最上层清空梯度\n",
    "    loss.backward()\n",
    "\n",
    "    optimizer.update()\n",
    "\n",
    "    if i % 1000 == 0:\n",
    "        print(loss)"
   ]
  }
 ],
 "metadata": {
  "kernelspec": {
   "display_name": "dl_torch",
   "language": "python",
   "name": "python3"
  },
  "language_info": {
   "codemirror_mode": {
    "name": "ipython",
    "version": 3
   },
   "file_extension": ".py",
   "mimetype": "text/x-python",
   "name": "python",
   "nbconvert_exporter": "python",
   "pygments_lexer": "ipython3",
   "version": "3.7.4"
  }
 },
 "nbformat": 4,
 "nbformat_minor": 2
}
