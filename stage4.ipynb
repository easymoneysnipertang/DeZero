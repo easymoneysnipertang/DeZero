{
 "cells": [
  {
   "cell_type": "markdown",
   "metadata": {},
   "source": [
    "# Stage 4: Creating neural networks\n",
    "\n",
    "前面我们主要处理的变量是标量，但在机器学习领域，张量(多维数组)扮演着重要的角色。这一阶段的目标是将 DeZero 扩展到机器学习，尤其是神经网络领域。"
   ]
  },
  {
   "cell_type": "code",
   "execution_count": null,
   "metadata": {},
   "outputs": [],
   "source": []
  }
 ],
 "metadata": {
  "language_info": {
   "name": "python"
  }
 },
 "nbformat": 4,
 "nbformat_minor": 2
}
